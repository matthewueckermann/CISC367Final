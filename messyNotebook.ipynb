{
 "cells": [
  {
   "cell_type": "code",
   "execution_count": 194,
   "id": "divine-drink",
   "metadata": {},
   "outputs": [],
   "source": [
    "import pandas as pd\n",
    "import seaborn as sb\n",
    "from matplotlib import pyplot as plt\n",
    "from  scipy import stats \n",
    "import numpy as np"
   ]
  },
  {
   "cell_type": "code",
   "execution_count": 195,
   "id": "digital-powder",
   "metadata": {},
   "outputs": [],
   "source": [
    "#https://chronicdata.cdc.gov/500-Cities-Places/PLACES-Local-Data-for-Better-Health-Place-Data-202/eav7-hnsx\n",
    "\n",
    "\n",
    "#df_medical = pd.read_csv('https://chronicdata.cdc.gov/api/views/eav7-hnsx/rows.csv?accessType=DOWNLOAD&bom=true&format=true') # Takes a long time to load\n",
    "df_medical = pd.read_csv('PLACES__Local_Data_for_Better_Health__Place_Data_2020_release.csv')"
   ]
  },
  {
   "cell_type": "code",
   "execution_count": 196,
   "id": "known-disability",
   "metadata": {},
   "outputs": [],
   "source": [
    "df_cancerData = df_medical[(df_medical['MeasureId']=='CANCER') & (df_medical['Data_Value_Type']=='Age-adjusted prevalence')]\n",
    "df_asthmaData = df_medical[(df_medical['MeasureId']=='CANCER') & (df_medical['Data_Value_Type']=='Age-adjusted prevalence')]\n",
    "del df_medical # free up any space"
   ]
  },
  {
   "cell_type": "code",
   "execution_count": 197,
   "id": "small-hardware",
   "metadata": {},
   "outputs": [],
   "source": [
    "df_asthmaData_important = df_asthmaData[['StateAbbr','LocationName','Data_Value','Low_Confidence_Limit','High_Confidence_Limit']] \n",
    "df_cancerData_important = df_cancerData[['StateAbbr','LocationName','Data_Value','Low_Confidence_Limit','High_Confidence_Limit']] "
   ]
  },
  {
   "cell_type": "code",
   "execution_count": 257,
   "id": "failing-wyoming",
   "metadata": {},
   "outputs": [],
   "source": [
    "df_TRI_2018 = pd.read_csv('https://enviro.epa.gov/enviro/efservice/MV_TRI_BASIC_DOWNLOAD/year/=/2018/fname/TRI_2019_US.csv/CSV',low_memory=False)"
   ]
  },
  {
   "cell_type": "code",
   "execution_count": 272,
   "id": "super-brunei",
   "metadata": {},
   "outputs": [],
   "source": [
    "df_TRI = df_TRI_2018[['6. CITY','8. ST','20. INDUSTRY SECTOR','34. CHEMICAL','42. CARCINOGEN','45. 5.1 - FUGITIVE AIR','46. 5.2 - STACK AIR','47. 5.3 - WATER','54. 5.5.2 - LAND TREATMENT','101. TOTAL RELEASES']]"
   ]
  },
  {
   "cell_type": "code",
   "execution_count": 273,
   "id": "nonprofit-civilization",
   "metadata": {},
   "outputs": [
    {
     "data": {
      "text/html": [
       "<div>\n",
       "<style scoped>\n",
       "    .dataframe tbody tr th:only-of-type {\n",
       "        vertical-align: middle;\n",
       "    }\n",
       "\n",
       "    .dataframe tbody tr th {\n",
       "        vertical-align: top;\n",
       "    }\n",
       "\n",
       "    .dataframe thead th {\n",
       "        text-align: right;\n",
       "    }\n",
       "</style>\n",
       "<table border=\"1\" class=\"dataframe\">\n",
       "  <thead>\n",
       "    <tr style=\"text-align: right;\">\n",
       "      <th></th>\n",
       "      <th>6. CITY</th>\n",
       "      <th>8. ST</th>\n",
       "      <th>20. INDUSTRY SECTOR</th>\n",
       "      <th>34. CHEMICAL</th>\n",
       "      <th>42. CARCINOGEN</th>\n",
       "      <th>45. 5.1 - FUGITIVE AIR</th>\n",
       "      <th>46. 5.2 - STACK AIR</th>\n",
       "      <th>47. 5.3 - WATER</th>\n",
       "      <th>54. 5.5.2 - LAND TREATMENT</th>\n",
       "      <th>101. TOTAL RELEASES</th>\n",
       "    </tr>\n",
       "  </thead>\n",
       "  <tbody>\n",
       "    <tr>\n",
       "      <th>0</th>\n",
       "      <td>NEENAH</td>\n",
       "      <td>WI</td>\n",
       "      <td>Food</td>\n",
       "      <td>Nitrate compounds (water dissociable; reportab...</td>\n",
       "      <td>NO</td>\n",
       "      <td>0.0</td>\n",
       "      <td>0.0</td>\n",
       "      <td>0.00</td>\n",
       "      <td>0.0</td>\n",
       "      <td>0.000</td>\n",
       "    </tr>\n",
       "    <tr>\n",
       "      <th>1</th>\n",
       "      <td>BRYAN</td>\n",
       "      <td>TX</td>\n",
       "      <td>Nonmetallic Mineral Product</td>\n",
       "      <td>Formic acid</td>\n",
       "      <td>NO</td>\n",
       "      <td>0.0</td>\n",
       "      <td>2692.0</td>\n",
       "      <td>0.00</td>\n",
       "      <td>0.0</td>\n",
       "      <td>2692.000</td>\n",
       "    </tr>\n",
       "    <tr>\n",
       "      <th>2</th>\n",
       "      <td>CHICAGO</td>\n",
       "      <td>IL</td>\n",
       "      <td>Fabricated Metals</td>\n",
       "      <td>Xylene (mixed isomers)</td>\n",
       "      <td>NO</td>\n",
       "      <td>219.0</td>\n",
       "      <td>1878.0</td>\n",
       "      <td>0.00</td>\n",
       "      <td>0.0</td>\n",
       "      <td>2097.000</td>\n",
       "    </tr>\n",
       "    <tr>\n",
       "      <th>3</th>\n",
       "      <td>HOUSTON</td>\n",
       "      <td>TX</td>\n",
       "      <td>Chemicals</td>\n",
       "      <td>Ammonia</td>\n",
       "      <td>NO</td>\n",
       "      <td>873.8</td>\n",
       "      <td>3154.0</td>\n",
       "      <td>887.46</td>\n",
       "      <td>0.0</td>\n",
       "      <td>4923.268</td>\n",
       "    </tr>\n",
       "    <tr>\n",
       "      <th>4</th>\n",
       "      <td>HOUSTON</td>\n",
       "      <td>TX</td>\n",
       "      <td>Chemicals</td>\n",
       "      <td>Chlorothalonil</td>\n",
       "      <td>YES</td>\n",
       "      <td>395.2</td>\n",
       "      <td>3393.4</td>\n",
       "      <td>9.02</td>\n",
       "      <td>0.0</td>\n",
       "      <td>145433.817</td>\n",
       "    </tr>\n",
       "    <tr>\n",
       "      <th>...</th>\n",
       "      <td>...</td>\n",
       "      <td>...</td>\n",
       "      <td>...</td>\n",
       "      <td>...</td>\n",
       "      <td>...</td>\n",
       "      <td>...</td>\n",
       "      <td>...</td>\n",
       "      <td>...</td>\n",
       "      <td>...</td>\n",
       "      <td>...</td>\n",
       "    </tr>\n",
       "    <tr>\n",
       "      <th>80358</th>\n",
       "      <td>PARIS</td>\n",
       "      <td>KY</td>\n",
       "      <td>Chemicals</td>\n",
       "      <td>Methyl isobutyl ketone</td>\n",
       "      <td>YES</td>\n",
       "      <td>0.0</td>\n",
       "      <td>0.0</td>\n",
       "      <td>0.00</td>\n",
       "      <td>0.0</td>\n",
       "      <td>0.000</td>\n",
       "    </tr>\n",
       "    <tr>\n",
       "      <th>80359</th>\n",
       "      <td>PARIS</td>\n",
       "      <td>KY</td>\n",
       "      <td>Chemicals</td>\n",
       "      <td>Lead compounds</td>\n",
       "      <td>NO</td>\n",
       "      <td>0.0</td>\n",
       "      <td>0.0</td>\n",
       "      <td>0.00</td>\n",
       "      <td>0.0</td>\n",
       "      <td>0.000</td>\n",
       "    </tr>\n",
       "    <tr>\n",
       "      <th>80360</th>\n",
       "      <td>TURNERS FALLS</td>\n",
       "      <td>MA</td>\n",
       "      <td>Fabricated Metals</td>\n",
       "      <td>Nickel</td>\n",
       "      <td>YES</td>\n",
       "      <td>0.0</td>\n",
       "      <td>0.0</td>\n",
       "      <td>0.00</td>\n",
       "      <td>0.0</td>\n",
       "      <td>0.000</td>\n",
       "    </tr>\n",
       "    <tr>\n",
       "      <th>80361</th>\n",
       "      <td>GALLATIN</td>\n",
       "      <td>TN</td>\n",
       "      <td>Electric Utilities</td>\n",
       "      <td>Zinc compounds</td>\n",
       "      <td>NO</td>\n",
       "      <td>3.0</td>\n",
       "      <td>970.0</td>\n",
       "      <td>270.00</td>\n",
       "      <td>0.0</td>\n",
       "      <td>35243.000</td>\n",
       "    </tr>\n",
       "    <tr>\n",
       "      <th>80362</th>\n",
       "      <td>GALLATIN</td>\n",
       "      <td>TN</td>\n",
       "      <td>Electric Utilities</td>\n",
       "      <td>Copper compounds</td>\n",
       "      <td>NO</td>\n",
       "      <td>2.0</td>\n",
       "      <td>140.0</td>\n",
       "      <td>2900.00</td>\n",
       "      <td>0.0</td>\n",
       "      <td>54143.000</td>\n",
       "    </tr>\n",
       "  </tbody>\n",
       "</table>\n",
       "<p>80363 rows × 10 columns</p>\n",
       "</div>"
      ],
      "text/plain": [
       "             6. CITY 8. ST          20. INDUSTRY SECTOR  \\\n",
       "0             NEENAH    WI                         Food   \n",
       "1              BRYAN    TX  Nonmetallic Mineral Product   \n",
       "2            CHICAGO    IL            Fabricated Metals   \n",
       "3            HOUSTON    TX                    Chemicals   \n",
       "4            HOUSTON    TX                    Chemicals   \n",
       "...              ...   ...                          ...   \n",
       "80358          PARIS    KY                    Chemicals   \n",
       "80359          PARIS    KY                    Chemicals   \n",
       "80360  TURNERS FALLS    MA            Fabricated Metals   \n",
       "80361       GALLATIN    TN           Electric Utilities   \n",
       "80362       GALLATIN    TN           Electric Utilities   \n",
       "\n",
       "                                            34. CHEMICAL 42. CARCINOGEN  \\\n",
       "0      Nitrate compounds (water dissociable; reportab...             NO   \n",
       "1                                            Formic acid             NO   \n",
       "2                                 Xylene (mixed isomers)             NO   \n",
       "3                                                Ammonia             NO   \n",
       "4                                         Chlorothalonil            YES   \n",
       "...                                                  ...            ...   \n",
       "80358                             Methyl isobutyl ketone            YES   \n",
       "80359                                     Lead compounds             NO   \n",
       "80360                                             Nickel            YES   \n",
       "80361                                     Zinc compounds             NO   \n",
       "80362                                   Copper compounds             NO   \n",
       "\n",
       "       45. 5.1 - FUGITIVE AIR  46. 5.2 - STACK AIR  47. 5.3 - WATER  \\\n",
       "0                         0.0                  0.0             0.00   \n",
       "1                         0.0               2692.0             0.00   \n",
       "2                       219.0               1878.0             0.00   \n",
       "3                       873.8               3154.0           887.46   \n",
       "4                       395.2               3393.4             9.02   \n",
       "...                       ...                  ...              ...   \n",
       "80358                     0.0                  0.0             0.00   \n",
       "80359                     0.0                  0.0             0.00   \n",
       "80360                     0.0                  0.0             0.00   \n",
       "80361                     3.0                970.0           270.00   \n",
       "80362                     2.0                140.0          2900.00   \n",
       "\n",
       "       54. 5.5.2 - LAND TREATMENT  101. TOTAL RELEASES  \n",
       "0                             0.0                0.000  \n",
       "1                             0.0             2692.000  \n",
       "2                             0.0             2097.000  \n",
       "3                             0.0             4923.268  \n",
       "4                             0.0           145433.817  \n",
       "...                           ...                  ...  \n",
       "80358                         0.0                0.000  \n",
       "80359                         0.0                0.000  \n",
       "80360                         0.0                0.000  \n",
       "80361                         0.0            35243.000  \n",
       "80362                         0.0            54143.000  \n",
       "\n",
       "[80363 rows x 10 columns]"
      ]
     },
     "execution_count": 273,
     "metadata": {},
     "output_type": "execute_result"
    }
   ],
   "source": [
    "df_TRI"
   ]
  },
  {
   "cell_type": "markdown",
   "id": "opposite-valley",
   "metadata": {},
   "source": [
    "Now we have the base datasets inmplemented, need to learn how to merge them\n",
    "\n",
    "Lets start withe the carcinogens cause thats the most straightforward:"
   ]
  },
  {
   "cell_type": "code",
   "execution_count": 274,
   "id": "indonesian-affair",
   "metadata": {},
   "outputs": [],
   "source": [
    "df_carcinogen = df_TRI[df_TRI['42. CARCINOGEN']=='YES']\n",
    "# Now lets group by city and state:\n",
    "gb_carcinogen_by_loc = df_carcinogen.groupby(['8. ST','6. CITY'])[\"101. TOTAL RELEASES\"].sum()"
   ]
  },
  {
   "cell_type": "code",
   "execution_count": 202,
   "id": "rough-indiana",
   "metadata": {},
   "outputs": [
    {
     "name": "stdout",
     "output_type": "stream",
     "text": [
      "8. ST  6. CITY       \n",
      "AK     ANCHORAGE          1097.74000\n",
      "       BETHEL              441.98000\n",
      "       DELTA JUNCTION    36943.40000\n",
      "       DUTCH HARBOR       1637.70000\n",
      "       EIELSON AFB           0.13300\n",
      "                            ...     \n",
      "WY     ROCK SPRINGS      28523.24200\n",
      "       SHERIDAN              2.66000\n",
      "       SINCLAIR           8493.78750\n",
      "       WHEATLAND         53239.72769\n",
      "       WORLAND               1.00000\n",
      "Name: 101. TOTAL RELEASES, Length: 5004, dtype: float64\n"
     ]
    }
   ],
   "source": [
    "print(gb_carcinogen_by_loc)"
   ]
  },
  {
   "cell_type": "code",
   "execution_count": 203,
   "id": "novel-frost",
   "metadata": {},
   "outputs": [
    {
     "data": {
      "text/html": [
       "<div>\n",
       "<style scoped>\n",
       "    .dataframe tbody tr th:only-of-type {\n",
       "        vertical-align: middle;\n",
       "    }\n",
       "\n",
       "    .dataframe tbody tr th {\n",
       "        vertical-align: top;\n",
       "    }\n",
       "\n",
       "    .dataframe thead th {\n",
       "        text-align: right;\n",
       "    }\n",
       "</style>\n",
       "<table border=\"1\" class=\"dataframe\">\n",
       "  <thead>\n",
       "    <tr style=\"text-align: right;\">\n",
       "      <th></th>\n",
       "      <th>8. ST</th>\n",
       "      <th>6. CITY</th>\n",
       "      <th>101. TOTAL RELEASES</th>\n",
       "    </tr>\n",
       "  </thead>\n",
       "  <tbody>\n",
       "    <tr>\n",
       "      <th>0</th>\n",
       "      <td>AK</td>\n",
       "      <td>ANCHORAGE</td>\n",
       "      <td>1097.74000</td>\n",
       "    </tr>\n",
       "    <tr>\n",
       "      <th>1</th>\n",
       "      <td>AK</td>\n",
       "      <td>BETHEL</td>\n",
       "      <td>441.98000</td>\n",
       "    </tr>\n",
       "    <tr>\n",
       "      <th>2</th>\n",
       "      <td>AK</td>\n",
       "      <td>DELTA JUNCTION</td>\n",
       "      <td>36943.40000</td>\n",
       "    </tr>\n",
       "    <tr>\n",
       "      <th>3</th>\n",
       "      <td>AK</td>\n",
       "      <td>DUTCH HARBOR</td>\n",
       "      <td>1637.70000</td>\n",
       "    </tr>\n",
       "    <tr>\n",
       "      <th>4</th>\n",
       "      <td>AK</td>\n",
       "      <td>EIELSON AFB</td>\n",
       "      <td>0.13300</td>\n",
       "    </tr>\n",
       "    <tr>\n",
       "      <th>...</th>\n",
       "      <td>...</td>\n",
       "      <td>...</td>\n",
       "      <td>...</td>\n",
       "    </tr>\n",
       "    <tr>\n",
       "      <th>4999</th>\n",
       "      <td>WY</td>\n",
       "      <td>ROCK SPRINGS</td>\n",
       "      <td>28523.24200</td>\n",
       "    </tr>\n",
       "    <tr>\n",
       "      <th>5000</th>\n",
       "      <td>WY</td>\n",
       "      <td>SHERIDAN</td>\n",
       "      <td>2.66000</td>\n",
       "    </tr>\n",
       "    <tr>\n",
       "      <th>5001</th>\n",
       "      <td>WY</td>\n",
       "      <td>SINCLAIR</td>\n",
       "      <td>8493.78750</td>\n",
       "    </tr>\n",
       "    <tr>\n",
       "      <th>5002</th>\n",
       "      <td>WY</td>\n",
       "      <td>WHEATLAND</td>\n",
       "      <td>53239.72769</td>\n",
       "    </tr>\n",
       "    <tr>\n",
       "      <th>5003</th>\n",
       "      <td>WY</td>\n",
       "      <td>WORLAND</td>\n",
       "      <td>1.00000</td>\n",
       "    </tr>\n",
       "  </tbody>\n",
       "</table>\n",
       "<p>5004 rows × 3 columns</p>\n",
       "</div>"
      ],
      "text/plain": [
       "     8. ST         6. CITY  101. TOTAL RELEASES\n",
       "0       AK       ANCHORAGE           1097.74000\n",
       "1       AK          BETHEL            441.98000\n",
       "2       AK  DELTA JUNCTION          36943.40000\n",
       "3       AK    DUTCH HARBOR           1637.70000\n",
       "4       AK     EIELSON AFB              0.13300\n",
       "...    ...             ...                  ...\n",
       "4999    WY    ROCK SPRINGS          28523.24200\n",
       "5000    WY        SHERIDAN              2.66000\n",
       "5001    WY        SINCLAIR           8493.78750\n",
       "5002    WY       WHEATLAND          53239.72769\n",
       "5003    WY         WORLAND              1.00000\n",
       "\n",
       "[5004 rows x 3 columns]"
      ]
     },
     "execution_count": 203,
     "metadata": {},
     "output_type": "execute_result"
    }
   ],
   "source": [
    "df_carcinogen_by_loc = gb_carcinogen_by_loc.reset_index()\n",
    "df_carcinogen_by_loc"
   ]
  },
  {
   "cell_type": "code",
   "execution_count": 204,
   "id": "sweet-sculpture",
   "metadata": {},
   "outputs": [
    {
     "data": {
      "text/html": [
       "<div>\n",
       "<style scoped>\n",
       "    .dataframe tbody tr th:only-of-type {\n",
       "        vertical-align: middle;\n",
       "    }\n",
       "\n",
       "    .dataframe tbody tr th {\n",
       "        vertical-align: top;\n",
       "    }\n",
       "\n",
       "    .dataframe thead th {\n",
       "        text-align: right;\n",
       "    }\n",
       "</style>\n",
       "<table border=\"1\" class=\"dataframe\">\n",
       "  <thead>\n",
       "    <tr style=\"text-align: right;\">\n",
       "      <th></th>\n",
       "      <th>StateAbbr</th>\n",
       "      <th>LocationName</th>\n",
       "      <th>Data_Value</th>\n",
       "      <th>Low_Confidence_Limit</th>\n",
       "      <th>High_Confidence_Limit</th>\n",
       "    </tr>\n",
       "  </thead>\n",
       "  <tbody>\n",
       "    <tr>\n",
       "      <th>1234</th>\n",
       "      <td>AL</td>\n",
       "      <td>Coaling</td>\n",
       "      <td>6.4</td>\n",
       "      <td>6.2</td>\n",
       "      <td>6.7</td>\n",
       "    </tr>\n",
       "    <tr>\n",
       "      <th>1301</th>\n",
       "      <td>AL</td>\n",
       "      <td>Cottonwood</td>\n",
       "      <td>6.6</td>\n",
       "      <td>6.3</td>\n",
       "      <td>6.9</td>\n",
       "    </tr>\n",
       "    <tr>\n",
       "      <th>1357</th>\n",
       "      <td>AL</td>\n",
       "      <td>Fayette</td>\n",
       "      <td>6.6</td>\n",
       "      <td>6.4</td>\n",
       "      <td>6.8</td>\n",
       "    </tr>\n",
       "    <tr>\n",
       "      <th>1375</th>\n",
       "      <td>AL</td>\n",
       "      <td>Guin</td>\n",
       "      <td>6.7</td>\n",
       "      <td>6.4</td>\n",
       "      <td>7.0</td>\n",
       "    </tr>\n",
       "    <tr>\n",
       "      <th>1389</th>\n",
       "      <td>AL</td>\n",
       "      <td>Dunnavant</td>\n",
       "      <td>6.7</td>\n",
       "      <td>6.4</td>\n",
       "      <td>7.0</td>\n",
       "    </tr>\n",
       "    <tr>\n",
       "      <th>...</th>\n",
       "      <td>...</td>\n",
       "      <td>...</td>\n",
       "      <td>...</td>\n",
       "      <td>...</td>\n",
       "      <td>...</td>\n",
       "    </tr>\n",
       "    <tr>\n",
       "      <th>1593099</th>\n",
       "      <td>WI</td>\n",
       "      <td>Zoar</td>\n",
       "      <td>5.3</td>\n",
       "      <td>5.0</td>\n",
       "      <td>5.7</td>\n",
       "    </tr>\n",
       "    <tr>\n",
       "      <th>1593106</th>\n",
       "      <td>WI</td>\n",
       "      <td>Westboro</td>\n",
       "      <td>6.5</td>\n",
       "      <td>6.1</td>\n",
       "      <td>6.8</td>\n",
       "    </tr>\n",
       "    <tr>\n",
       "      <th>1593114</th>\n",
       "      <td>WY</td>\n",
       "      <td>Guernsey</td>\n",
       "      <td>6.3</td>\n",
       "      <td>6.0</td>\n",
       "      <td>6.6</td>\n",
       "    </tr>\n",
       "    <tr>\n",
       "      <th>1593177</th>\n",
       "      <td>WI</td>\n",
       "      <td>Steuben</td>\n",
       "      <td>6.5</td>\n",
       "      <td>6.2</td>\n",
       "      <td>6.9</td>\n",
       "    </tr>\n",
       "    <tr>\n",
       "      <th>1593202</th>\n",
       "      <td>WY</td>\n",
       "      <td>Bairoil</td>\n",
       "      <td>5.4</td>\n",
       "      <td>5.1</td>\n",
       "      <td>5.6</td>\n",
       "    </tr>\n",
       "  </tbody>\n",
       "</table>\n",
       "<p>28484 rows × 5 columns</p>\n",
       "</div>"
      ],
      "text/plain": [
       "        StateAbbr LocationName  Data_Value  Low_Confidence_Limit  \\\n",
       "1234           AL      Coaling         6.4                   6.2   \n",
       "1301           AL   Cottonwood         6.6                   6.3   \n",
       "1357           AL      Fayette         6.6                   6.4   \n",
       "1375           AL         Guin         6.7                   6.4   \n",
       "1389           AL    Dunnavant         6.7                   6.4   \n",
       "...           ...          ...         ...                   ...   \n",
       "1593099        WI         Zoar         5.3                   5.0   \n",
       "1593106        WI     Westboro         6.5                   6.1   \n",
       "1593114        WY     Guernsey         6.3                   6.0   \n",
       "1593177        WI      Steuben         6.5                   6.2   \n",
       "1593202        WY      Bairoil         5.4                   5.1   \n",
       "\n",
       "         High_Confidence_Limit  \n",
       "1234                       6.7  \n",
       "1301                       6.9  \n",
       "1357                       6.8  \n",
       "1375                       7.0  \n",
       "1389                       7.0  \n",
       "...                        ...  \n",
       "1593099                    5.7  \n",
       "1593106                    6.8  \n",
       "1593114                    6.6  \n",
       "1593177                    6.9  \n",
       "1593202                    5.6  \n",
       "\n",
       "[28484 rows x 5 columns]"
      ]
     },
     "execution_count": 204,
     "metadata": {},
     "output_type": "execute_result"
    }
   ],
   "source": [
    "df_cancerData_important"
   ]
  },
  {
   "cell_type": "code",
   "execution_count": 205,
   "id": "immune-framework",
   "metadata": {},
   "outputs": [],
   "source": [
    "# We have way more PLACES data than TRI... 5,004 rows versus 28,484"
   ]
  },
  {
   "cell_type": "code",
   "execution_count": 206,
   "id": "departmental-newton",
   "metadata": {},
   "outputs": [
    {
     "data": {
      "text/html": [
       "<div>\n",
       "<style scoped>\n",
       "    .dataframe tbody tr th:only-of-type {\n",
       "        vertical-align: middle;\n",
       "    }\n",
       "\n",
       "    .dataframe tbody tr th {\n",
       "        vertical-align: top;\n",
       "    }\n",
       "\n",
       "    .dataframe thead th {\n",
       "        text-align: right;\n",
       "    }\n",
       "</style>\n",
       "<table border=\"1\" class=\"dataframe\">\n",
       "  <thead>\n",
       "    <tr style=\"text-align: right;\">\n",
       "      <th></th>\n",
       "      <th>StateAbbr</th>\n",
       "      <th>LocationName</th>\n",
       "      <th>Data_Value</th>\n",
       "      <th>Low_Confidence_Limit</th>\n",
       "      <th>High_Confidence_Limit</th>\n",
       "    </tr>\n",
       "  </thead>\n",
       "  <tbody>\n",
       "    <tr>\n",
       "      <th>33362</th>\n",
       "      <td>AK</td>\n",
       "      <td>Bethel</td>\n",
       "      <td>6.5</td>\n",
       "      <td>6.3</td>\n",
       "      <td>6.8</td>\n",
       "    </tr>\n",
       "    <tr>\n",
       "      <th>214493</th>\n",
       "      <td>CT</td>\n",
       "      <td>Bethel</td>\n",
       "      <td>6.6</td>\n",
       "      <td>6.4</td>\n",
       "      <td>6.8</td>\n",
       "    </tr>\n",
       "    <tr>\n",
       "      <th>215515</th>\n",
       "      <td>DE</td>\n",
       "      <td>Bethel</td>\n",
       "      <td>6.7</td>\n",
       "      <td>6.4</td>\n",
       "      <td>7.0</td>\n",
       "    </tr>\n",
       "    <tr>\n",
       "      <th>680012</th>\n",
       "      <td>MN</td>\n",
       "      <td>Bethel</td>\n",
       "      <td>6.3</td>\n",
       "      <td>6.0</td>\n",
       "      <td>6.7</td>\n",
       "    </tr>\n",
       "    <tr>\n",
       "      <th>742164</th>\n",
       "      <td>MO</td>\n",
       "      <td>Bethel</td>\n",
       "      <td>6.6</td>\n",
       "      <td>6.2</td>\n",
       "      <td>6.9</td>\n",
       "    </tr>\n",
       "    <tr>\n",
       "      <th>981601</th>\n",
       "      <td>NC</td>\n",
       "      <td>Bethel</td>\n",
       "      <td>6.2</td>\n",
       "      <td>5.9</td>\n",
       "      <td>6.4</td>\n",
       "    </tr>\n",
       "    <tr>\n",
       "      <th>1041641</th>\n",
       "      <td>OH</td>\n",
       "      <td>Bethel</td>\n",
       "      <td>6.5</td>\n",
       "      <td>6.2</td>\n",
       "      <td>6.9</td>\n",
       "    </tr>\n",
       "    <tr>\n",
       "      <th>1183259</th>\n",
       "      <td>PA</td>\n",
       "      <td>Bethel</td>\n",
       "      <td>6.4</td>\n",
       "      <td>6.1</td>\n",
       "      <td>6.7</td>\n",
       "    </tr>\n",
       "    <tr>\n",
       "      <th>1446463</th>\n",
       "      <td>VT</td>\n",
       "      <td>Bethel</td>\n",
       "      <td>6.6</td>\n",
       "      <td>6.3</td>\n",
       "      <td>7.0</td>\n",
       "    </tr>\n",
       "    <tr>\n",
       "      <th>1489868</th>\n",
       "      <td>WA</td>\n",
       "      <td>Bethel</td>\n",
       "      <td>6.6</td>\n",
       "      <td>6.3</td>\n",
       "      <td>6.8</td>\n",
       "    </tr>\n",
       "  </tbody>\n",
       "</table>\n",
       "</div>"
      ],
      "text/plain": [
       "        StateAbbr LocationName  Data_Value  Low_Confidence_Limit  \\\n",
       "33362          AK       Bethel         6.5                   6.3   \n",
       "214493         CT       Bethel         6.6                   6.4   \n",
       "215515         DE       Bethel         6.7                   6.4   \n",
       "680012         MN       Bethel         6.3                   6.0   \n",
       "742164         MO       Bethel         6.6                   6.2   \n",
       "981601         NC       Bethel         6.2                   5.9   \n",
       "1041641        OH       Bethel         6.5                   6.2   \n",
       "1183259        PA       Bethel         6.4                   6.1   \n",
       "1446463        VT       Bethel         6.6                   6.3   \n",
       "1489868        WA       Bethel         6.6                   6.3   \n",
       "\n",
       "         High_Confidence_Limit  \n",
       "33362                      6.8  \n",
       "214493                     6.8  \n",
       "215515                     7.0  \n",
       "680012                     6.7  \n",
       "742164                     6.9  \n",
       "981601                     6.4  \n",
       "1041641                    6.9  \n",
       "1183259                    6.7  \n",
       "1446463                    7.0  \n",
       "1489868                    6.8  "
      ]
     },
     "execution_count": 206,
     "metadata": {},
     "output_type": "execute_result"
    }
   ],
   "source": [
    "df_cancerData_important[df_cancerData_important['LocationName']=='Bethel']"
   ]
  },
  {
   "cell_type": "code",
   "execution_count": 207,
   "id": "eleven-compensation",
   "metadata": {},
   "outputs": [
    {
     "data": {
      "text/html": [
       "<div>\n",
       "<style scoped>\n",
       "    .dataframe tbody tr th:only-of-type {\n",
       "        vertical-align: middle;\n",
       "    }\n",
       "\n",
       "    .dataframe tbody tr th {\n",
       "        vertical-align: top;\n",
       "    }\n",
       "\n",
       "    .dataframe thead th {\n",
       "        text-align: right;\n",
       "    }\n",
       "</style>\n",
       "<table border=\"1\" class=\"dataframe\">\n",
       "  <thead>\n",
       "    <tr style=\"text-align: right;\">\n",
       "      <th></th>\n",
       "      <th>8. ST</th>\n",
       "      <th>6. CITY</th>\n",
       "      <th>101. TOTAL RELEASES</th>\n",
       "    </tr>\n",
       "  </thead>\n",
       "  <tbody>\n",
       "    <tr>\n",
       "      <th>1</th>\n",
       "      <td>AK</td>\n",
       "      <td>BETHEL</td>\n",
       "      <td>441.980</td>\n",
       "    </tr>\n",
       "    <tr>\n",
       "      <th>533</th>\n",
       "      <td>CT</td>\n",
       "      <td>BETHEL</td>\n",
       "      <td>39.136</td>\n",
       "    </tr>\n",
       "  </tbody>\n",
       "</table>\n",
       "</div>"
      ],
      "text/plain": [
       "    8. ST 6. CITY  101. TOTAL RELEASES\n",
       "1      AK  BETHEL              441.980\n",
       "533    CT  BETHEL               39.136"
      ]
     },
     "execution_count": 207,
     "metadata": {},
     "output_type": "execute_result"
    }
   ],
   "source": [
    "df_carcinogen_by_loc[df_carcinogen_by_loc['6. CITY']=='BETHEL']"
   ]
  },
  {
   "cell_type": "markdown",
   "id": "civilian-civilian",
   "metadata": {},
   "source": [
    "Looks like to join ill have to correct the location names to be lowercase for both to standardize:"
   ]
  },
  {
   "cell_type": "code",
   "execution_count": 208,
   "id": "timely-samuel",
   "metadata": {},
   "outputs": [],
   "source": [
    "df_carcinogen_by_loc['6. CITY'] = df_carcinogen_by_loc['6. CITY'].str.lower()"
   ]
  },
  {
   "cell_type": "code",
   "execution_count": 209,
   "id": "private-zimbabwe",
   "metadata": {},
   "outputs": [
    {
     "name": "stderr",
     "output_type": "stream",
     "text": [
      "c:\\users\\matth\\desktop\\cisc367\\cisc367_dir\\venv\\lib\\site-packages\\ipykernel_launcher.py:1: SettingWithCopyWarning: \n",
      "A value is trying to be set on a copy of a slice from a DataFrame.\n",
      "Try using .loc[row_indexer,col_indexer] = value instead\n",
      "\n",
      "See the caveats in the documentation: https://pandas.pydata.org/pandas-docs/stable/user_guide/indexing.html#returning-a-view-versus-a-copy\n",
      "  \"\"\"Entry point for launching an IPython kernel.\n"
     ]
    }
   ],
   "source": [
    "df_cancerData_important['LocationName']= df_cancerData_important['LocationName'].str.lower()"
   ]
  },
  {
   "cell_type": "code",
   "execution_count": 210,
   "id": "negative-aquatic",
   "metadata": {},
   "outputs": [
    {
     "data": {
      "text/plain": [
       "1234          coaling\n",
       "1301       cottonwood\n",
       "1357          fayette\n",
       "1375             guin\n",
       "1389        dunnavant\n",
       "              ...    \n",
       "1593099          zoar\n",
       "1593106      westboro\n",
       "1593114      guernsey\n",
       "1593177       steuben\n",
       "1593202       bairoil\n",
       "Name: LocationName, Length: 28484, dtype: object"
      ]
     },
     "execution_count": 210,
     "metadata": {},
     "output_type": "execute_result"
    }
   ],
   "source": [
    "df_cancerData_important['LocationName'].str.lower()"
   ]
  },
  {
   "cell_type": "code",
   "execution_count": 211,
   "id": "foreign-house",
   "metadata": {},
   "outputs": [],
   "source": [
    "combined_cancer = pd.merge(df_cancerData_important, df_carcinogen_by_loc, left_on=['StateAbbr','LocationName'],right_on=['8. ST','6. CITY'], how='right')"
   ]
  },
  {
   "cell_type": "code",
   "execution_count": 212,
   "id": "micro-class",
   "metadata": {},
   "outputs": [],
   "source": [
    "# may want to join by the left and add colums without carcinegon release to the \"control\" dataset"
   ]
  },
  {
   "cell_type": "code",
   "execution_count": 213,
   "id": "average-karaoke",
   "metadata": {},
   "outputs": [
    {
     "data": {
      "text/html": [
       "<div>\n",
       "<style scoped>\n",
       "    .dataframe tbody tr th:only-of-type {\n",
       "        vertical-align: middle;\n",
       "    }\n",
       "\n",
       "    .dataframe tbody tr th {\n",
       "        vertical-align: top;\n",
       "    }\n",
       "\n",
       "    .dataframe thead th {\n",
       "        text-align: right;\n",
       "    }\n",
       "</style>\n",
       "<table border=\"1\" class=\"dataframe\">\n",
       "  <thead>\n",
       "    <tr style=\"text-align: right;\">\n",
       "      <th></th>\n",
       "      <th>StateAbbr</th>\n",
       "      <th>LocationName</th>\n",
       "      <th>Data_Value</th>\n",
       "      <th>Low_Confidence_Limit</th>\n",
       "      <th>High_Confidence_Limit</th>\n",
       "      <th>8. ST</th>\n",
       "      <th>6. CITY</th>\n",
       "      <th>101. TOTAL RELEASES</th>\n",
       "    </tr>\n",
       "  </thead>\n",
       "  <tbody>\n",
       "    <tr>\n",
       "      <th>0</th>\n",
       "      <td>AK</td>\n",
       "      <td>anchorage</td>\n",
       "      <td>6.3</td>\n",
       "      <td>6.2</td>\n",
       "      <td>6.3</td>\n",
       "      <td>AK</td>\n",
       "      <td>anchorage</td>\n",
       "      <td>1097.74000</td>\n",
       "    </tr>\n",
       "    <tr>\n",
       "      <th>1</th>\n",
       "      <td>AK</td>\n",
       "      <td>bethel</td>\n",
       "      <td>6.5</td>\n",
       "      <td>6.3</td>\n",
       "      <td>6.8</td>\n",
       "      <td>AK</td>\n",
       "      <td>bethel</td>\n",
       "      <td>441.98000</td>\n",
       "    </tr>\n",
       "    <tr>\n",
       "      <th>2</th>\n",
       "      <td>AK</td>\n",
       "      <td>delta junction</td>\n",
       "      <td>6.5</td>\n",
       "      <td>6.2</td>\n",
       "      <td>6.8</td>\n",
       "      <td>AK</td>\n",
       "      <td>delta junction</td>\n",
       "      <td>36943.40000</td>\n",
       "    </tr>\n",
       "    <tr>\n",
       "      <th>3</th>\n",
       "      <td>NaN</td>\n",
       "      <td>NaN</td>\n",
       "      <td>NaN</td>\n",
       "      <td>NaN</td>\n",
       "      <td>NaN</td>\n",
       "      <td>AK</td>\n",
       "      <td>dutch harbor</td>\n",
       "      <td>1637.70000</td>\n",
       "    </tr>\n",
       "    <tr>\n",
       "      <th>4</th>\n",
       "      <td>AK</td>\n",
       "      <td>eielson afb</td>\n",
       "      <td>4.7</td>\n",
       "      <td>4.4</td>\n",
       "      <td>5.0</td>\n",
       "      <td>AK</td>\n",
       "      <td>eielson afb</td>\n",
       "      <td>0.13300</td>\n",
       "    </tr>\n",
       "    <tr>\n",
       "      <th>...</th>\n",
       "      <td>...</td>\n",
       "      <td>...</td>\n",
       "      <td>...</td>\n",
       "      <td>...</td>\n",
       "      <td>...</td>\n",
       "      <td>...</td>\n",
       "      <td>...</td>\n",
       "      <td>...</td>\n",
       "    </tr>\n",
       "    <tr>\n",
       "      <th>5014</th>\n",
       "      <td>WY</td>\n",
       "      <td>rock springs</td>\n",
       "      <td>6.5</td>\n",
       "      <td>6.3</td>\n",
       "      <td>6.6</td>\n",
       "      <td>WY</td>\n",
       "      <td>rock springs</td>\n",
       "      <td>28523.24200</td>\n",
       "    </tr>\n",
       "    <tr>\n",
       "      <th>5015</th>\n",
       "      <td>WY</td>\n",
       "      <td>sheridan</td>\n",
       "      <td>6.4</td>\n",
       "      <td>6.3</td>\n",
       "      <td>6.6</td>\n",
       "      <td>WY</td>\n",
       "      <td>sheridan</td>\n",
       "      <td>2.66000</td>\n",
       "    </tr>\n",
       "    <tr>\n",
       "      <th>5016</th>\n",
       "      <td>WY</td>\n",
       "      <td>sinclair</td>\n",
       "      <td>6.4</td>\n",
       "      <td>6.1</td>\n",
       "      <td>6.7</td>\n",
       "      <td>WY</td>\n",
       "      <td>sinclair</td>\n",
       "      <td>8493.78750</td>\n",
       "    </tr>\n",
       "    <tr>\n",
       "      <th>5017</th>\n",
       "      <td>WY</td>\n",
       "      <td>wheatland</td>\n",
       "      <td>6.5</td>\n",
       "      <td>6.2</td>\n",
       "      <td>6.8</td>\n",
       "      <td>WY</td>\n",
       "      <td>wheatland</td>\n",
       "      <td>53239.72769</td>\n",
       "    </tr>\n",
       "    <tr>\n",
       "      <th>5018</th>\n",
       "      <td>WY</td>\n",
       "      <td>worland</td>\n",
       "      <td>6.4</td>\n",
       "      <td>6.2</td>\n",
       "      <td>6.6</td>\n",
       "      <td>WY</td>\n",
       "      <td>worland</td>\n",
       "      <td>1.00000</td>\n",
       "    </tr>\n",
       "  </tbody>\n",
       "</table>\n",
       "<p>5019 rows × 8 columns</p>\n",
       "</div>"
      ],
      "text/plain": [
       "     StateAbbr    LocationName  Data_Value  Low_Confidence_Limit  \\\n",
       "0           AK       anchorage         6.3                   6.2   \n",
       "1           AK          bethel         6.5                   6.3   \n",
       "2           AK  delta junction         6.5                   6.2   \n",
       "3          NaN             NaN         NaN                   NaN   \n",
       "4           AK     eielson afb         4.7                   4.4   \n",
       "...        ...             ...         ...                   ...   \n",
       "5014        WY    rock springs         6.5                   6.3   \n",
       "5015        WY        sheridan         6.4                   6.3   \n",
       "5016        WY        sinclair         6.4                   6.1   \n",
       "5017        WY       wheatland         6.5                   6.2   \n",
       "5018        WY         worland         6.4                   6.2   \n",
       "\n",
       "      High_Confidence_Limit 8. ST         6. CITY  101. TOTAL RELEASES  \n",
       "0                       6.3    AK       anchorage           1097.74000  \n",
       "1                       6.8    AK          bethel            441.98000  \n",
       "2                       6.8    AK  delta junction          36943.40000  \n",
       "3                       NaN    AK    dutch harbor           1637.70000  \n",
       "4                       5.0    AK     eielson afb              0.13300  \n",
       "...                     ...   ...             ...                  ...  \n",
       "5014                    6.6    WY    rock springs          28523.24200  \n",
       "5015                    6.6    WY        sheridan              2.66000  \n",
       "5016                    6.7    WY        sinclair           8493.78750  \n",
       "5017                    6.8    WY       wheatland          53239.72769  \n",
       "5018                    6.6    WY         worland              1.00000  \n",
       "\n",
       "[5019 rows x 8 columns]"
      ]
     },
     "execution_count": 213,
     "metadata": {},
     "output_type": "execute_result"
    }
   ],
   "source": [
    "combined_cancer"
   ]
  },
  {
   "cell_type": "code",
   "execution_count": 214,
   "id": "opened-citizen",
   "metadata": {},
   "outputs": [],
   "source": [
    "combined_cancer = combined_cancer.dropna()\n",
    "combined_cancer = combined_cancer.drop(columns=['8. ST','6. CITY'],index=1)"
   ]
  },
  {
   "cell_type": "code",
   "execution_count": 215,
   "id": "tropical-routine",
   "metadata": {},
   "outputs": [],
   "source": [
    "newLabels = [\"State\",\"City\",\"Age-adjusted cancer rate (%)\", \"Lower CI for cancer rate\",\"Upper CI for cancer rate\",\"Total carcinegon release (lb)\"]"
   ]
  },
  {
   "cell_type": "code",
   "execution_count": 216,
   "id": "similar-associate",
   "metadata": {},
   "outputs": [
    {
     "data": {
      "text/html": [
       "<div>\n",
       "<style scoped>\n",
       "    .dataframe tbody tr th:only-of-type {\n",
       "        vertical-align: middle;\n",
       "    }\n",
       "\n",
       "    .dataframe tbody tr th {\n",
       "        vertical-align: top;\n",
       "    }\n",
       "\n",
       "    .dataframe thead th {\n",
       "        text-align: right;\n",
       "    }\n",
       "</style>\n",
       "<table border=\"1\" class=\"dataframe\">\n",
       "  <thead>\n",
       "    <tr style=\"text-align: right;\">\n",
       "      <th></th>\n",
       "      <th>State</th>\n",
       "      <th>City</th>\n",
       "      <th>Age-adjusted cancer rate (%)</th>\n",
       "      <th>Lower CI for cancer rate</th>\n",
       "      <th>Upper CI for cancer rate</th>\n",
       "      <th>Total carcinegon release (lb)</th>\n",
       "    </tr>\n",
       "  </thead>\n",
       "  <tbody>\n",
       "    <tr>\n",
       "      <th>0</th>\n",
       "      <td>AK</td>\n",
       "      <td>anchorage</td>\n",
       "      <td>6.3</td>\n",
       "      <td>6.2</td>\n",
       "      <td>6.3</td>\n",
       "      <td>1097.74000</td>\n",
       "    </tr>\n",
       "    <tr>\n",
       "      <th>2</th>\n",
       "      <td>AK</td>\n",
       "      <td>delta junction</td>\n",
       "      <td>6.5</td>\n",
       "      <td>6.2</td>\n",
       "      <td>6.8</td>\n",
       "      <td>36943.40000</td>\n",
       "    </tr>\n",
       "    <tr>\n",
       "      <th>4</th>\n",
       "      <td>AK</td>\n",
       "      <td>eielson afb</td>\n",
       "      <td>4.7</td>\n",
       "      <td>4.4</td>\n",
       "      <td>5.0</td>\n",
       "      <td>0.13300</td>\n",
       "    </tr>\n",
       "    <tr>\n",
       "      <th>5</th>\n",
       "      <td>AK</td>\n",
       "      <td>fairbanks</td>\n",
       "      <td>6.2</td>\n",
       "      <td>6.1</td>\n",
       "      <td>6.3</td>\n",
       "      <td>183054.10890</td>\n",
       "    </tr>\n",
       "    <tr>\n",
       "      <th>6</th>\n",
       "      <td>AK</td>\n",
       "      <td>fort greely</td>\n",
       "      <td>5.5</td>\n",
       "      <td>5.2</td>\n",
       "      <td>5.8</td>\n",
       "      <td>0.00000</td>\n",
       "    </tr>\n",
       "    <tr>\n",
       "      <th>...</th>\n",
       "      <td>...</td>\n",
       "      <td>...</td>\n",
       "      <td>...</td>\n",
       "      <td>...</td>\n",
       "      <td>...</td>\n",
       "      <td>...</td>\n",
       "    </tr>\n",
       "    <tr>\n",
       "      <th>5014</th>\n",
       "      <td>WY</td>\n",
       "      <td>rock springs</td>\n",
       "      <td>6.5</td>\n",
       "      <td>6.3</td>\n",
       "      <td>6.6</td>\n",
       "      <td>28523.24200</td>\n",
       "    </tr>\n",
       "    <tr>\n",
       "      <th>5015</th>\n",
       "      <td>WY</td>\n",
       "      <td>sheridan</td>\n",
       "      <td>6.4</td>\n",
       "      <td>6.3</td>\n",
       "      <td>6.6</td>\n",
       "      <td>2.66000</td>\n",
       "    </tr>\n",
       "    <tr>\n",
       "      <th>5016</th>\n",
       "      <td>WY</td>\n",
       "      <td>sinclair</td>\n",
       "      <td>6.4</td>\n",
       "      <td>6.1</td>\n",
       "      <td>6.7</td>\n",
       "      <td>8493.78750</td>\n",
       "    </tr>\n",
       "    <tr>\n",
       "      <th>5017</th>\n",
       "      <td>WY</td>\n",
       "      <td>wheatland</td>\n",
       "      <td>6.5</td>\n",
       "      <td>6.2</td>\n",
       "      <td>6.8</td>\n",
       "      <td>53239.72769</td>\n",
       "    </tr>\n",
       "    <tr>\n",
       "      <th>5018</th>\n",
       "      <td>WY</td>\n",
       "      <td>worland</td>\n",
       "      <td>6.4</td>\n",
       "      <td>6.2</td>\n",
       "      <td>6.6</td>\n",
       "      <td>1.00000</td>\n",
       "    </tr>\n",
       "  </tbody>\n",
       "</table>\n",
       "<p>4375 rows × 6 columns</p>\n",
       "</div>"
      ],
      "text/plain": [
       "     State            City  Age-adjusted cancer rate (%)  \\\n",
       "0       AK       anchorage                           6.3   \n",
       "2       AK  delta junction                           6.5   \n",
       "4       AK     eielson afb                           4.7   \n",
       "5       AK       fairbanks                           6.2   \n",
       "6       AK     fort greely                           5.5   \n",
       "...    ...             ...                           ...   \n",
       "5014    WY    rock springs                           6.5   \n",
       "5015    WY        sheridan                           6.4   \n",
       "5016    WY        sinclair                           6.4   \n",
       "5017    WY       wheatland                           6.5   \n",
       "5018    WY         worland                           6.4   \n",
       "\n",
       "      Lower CI for cancer rate  Upper CI for cancer rate  \\\n",
       "0                          6.2                       6.3   \n",
       "2                          6.2                       6.8   \n",
       "4                          4.4                       5.0   \n",
       "5                          6.1                       6.3   \n",
       "6                          5.2                       5.8   \n",
       "...                        ...                       ...   \n",
       "5014                       6.3                       6.6   \n",
       "5015                       6.3                       6.6   \n",
       "5016                       6.1                       6.7   \n",
       "5017                       6.2                       6.8   \n",
       "5018                       6.2                       6.6   \n",
       "\n",
       "      Total carcinegon release (lb)  \n",
       "0                        1097.74000  \n",
       "2                       36943.40000  \n",
       "4                           0.13300  \n",
       "5                      183054.10890  \n",
       "6                           0.00000  \n",
       "...                             ...  \n",
       "5014                    28523.24200  \n",
       "5015                        2.66000  \n",
       "5016                     8493.78750  \n",
       "5017                    53239.72769  \n",
       "5018                        1.00000  \n",
       "\n",
       "[4375 rows x 6 columns]"
      ]
     },
     "execution_count": 216,
     "metadata": {},
     "output_type": "execute_result"
    }
   ],
   "source": [
    "combined_cancer.columns = newLabels\n",
    "combined_cancer"
   ]
  },
  {
   "cell_type": "markdown",
   "id": "smaller-prisoner",
   "metadata": {},
   "source": [
    "#### Now lets look for some corerlations:\n",
    "\n",
    "First lets plot carcinegon release over age-adjusted rancer rate:"
   ]
  },
  {
   "cell_type": "code",
   "execution_count": 237,
   "id": "nuclear-lease",
   "metadata": {},
   "outputs": [
    {
     "data": {
      "text/plain": [
       "(0.1, 10000000.0)"
      ]
     },
     "execution_count": 237,
     "metadata": {},
     "output_type": "execute_result"
    },
    {
     "data": {
      "image/png": "[encoded data removed]",
      "text/plain": [
       "<Figure size 432x288 with 1 Axes>"
      ]
     },
     "metadata": {
      "needs_background": "light"
     },
     "output_type": "display_data"
    }
   ],
   "source": [
    "sb.scatterplot(y='Age-adjusted cancer rate (%)',x='Total carcinegon release (lb)', data=combined_cancer)\n",
    "plt.xlim(0.1,10000000)"
   ]
  },
  {
   "cell_type": "markdown",
   "id": "scenic-passion",
   "metadata": {},
   "source": [
    "Note a strong correlation off the bat, may have issues with axes sizing though"
   ]
  },
  {
   "cell_type": "code",
   "execution_count": 235,
   "id": "dated-cosmetic",
   "metadata": {},
   "outputs": [
    {
     "data": {
      "text/plain": [
       "(0.1, 100000000)"
      ]
     },
     "execution_count": 235,
     "metadata": {},
     "output_type": "execute_result"
    },
    {
     "data": {
      "image/png": "[encoded data removed]",
      "text/plain": [
       "<Figure size 432x288 with 1 Axes>"
      ]
     },
     "metadata": {
      "needs_background": "light"
     },
     "output_type": "display_data"
    }
   ],
   "source": [
    "combined_cancer.plot.scatter(y='Age-adjusted cancer rate (%)',x='Total carcinegon release (lb)')\n",
    "plt.xscale('log')\n",
    "plt.xlim(0.1,100000000)"
   ]
  },
  {
   "cell_type": "markdown",
   "id": "removed-sitting",
   "metadata": {},
   "source": [
    "Cancer rates do seem to be about the same regardless of emissions. What does a statistical test say?"
   ]
  },
  {
   "cell_type": "code",
   "execution_count": 222,
   "id": "local-analysis",
   "metadata": {},
   "outputs": [
    {
     "name": "stdout",
     "output_type": "stream",
     "text": [
      "The Pearson correlation coefficient is:  -0.036198572365647615 and is not statistically significant with a p of  0.016647082339698246\n"
     ]
    }
   ],
   "source": [
    "[r, p] = stats.pearsonr(combined_cancer['Total carcinegon release (lb)'],combined_cancer['Age-adjusted cancer rate (%)'])\n",
    "print(\"The Pearson correlation coefficient is: \", r, \"and is not statistically significant with a p of \", p)"
   ]
  },
  {
   "cell_type": "markdown",
   "id": "considered-illustration",
   "metadata": {},
   "source": [
    "Not that this is necissarilly wrong, but did I drope cities without emissions? As that seems wrong:"
   ]
  },
  {
   "cell_type": "code",
   "execution_count": 223,
   "id": "measured-mistress",
   "metadata": {},
   "outputs": [
    {
     "data": {
      "text/html": [
       "<div>\n",
       "<style scoped>\n",
       "    .dataframe tbody tr th:only-of-type {\n",
       "        vertical-align: middle;\n",
       "    }\n",
       "\n",
       "    .dataframe tbody tr th {\n",
       "        vertical-align: top;\n",
       "    }\n",
       "\n",
       "    .dataframe thead th {\n",
       "        text-align: right;\n",
       "    }\n",
       "</style>\n",
       "<table border=\"1\" class=\"dataframe\">\n",
       "  <thead>\n",
       "    <tr style=\"text-align: right;\">\n",
       "      <th></th>\n",
       "      <th>State</th>\n",
       "      <th>City</th>\n",
       "      <th>Age-adjusted cancer rate (%)</th>\n",
       "      <th>Lower CI for cancer rate</th>\n",
       "      <th>Upper CI for cancer rate</th>\n",
       "      <th>Total carcinegon release (lb)</th>\n",
       "    </tr>\n",
       "  </thead>\n",
       "  <tbody>\n",
       "    <tr>\n",
       "      <th>0</th>\n",
       "      <td>AL</td>\n",
       "      <td>coaling</td>\n",
       "      <td>6.4</td>\n",
       "      <td>6.2</td>\n",
       "      <td>6.7</td>\n",
       "      <td>NaN</td>\n",
       "    </tr>\n",
       "    <tr>\n",
       "      <th>2</th>\n",
       "      <td>AL</td>\n",
       "      <td>fayette</td>\n",
       "      <td>6.6</td>\n",
       "      <td>6.4</td>\n",
       "      <td>6.8</td>\n",
       "      <td>18.27</td>\n",
       "    </tr>\n",
       "    <tr>\n",
       "      <th>3</th>\n",
       "      <td>AL</td>\n",
       "      <td>guin</td>\n",
       "      <td>6.7</td>\n",
       "      <td>6.4</td>\n",
       "      <td>7.0</td>\n",
       "      <td>2114.00</td>\n",
       "    </tr>\n",
       "    <tr>\n",
       "      <th>4</th>\n",
       "      <td>AL</td>\n",
       "      <td>dunnavant</td>\n",
       "      <td>6.7</td>\n",
       "      <td>6.4</td>\n",
       "      <td>7.0</td>\n",
       "      <td>NaN</td>\n",
       "    </tr>\n",
       "    <tr>\n",
       "      <th>5</th>\n",
       "      <td>AL</td>\n",
       "      <td>hartselle</td>\n",
       "      <td>6.7</td>\n",
       "      <td>6.5</td>\n",
       "      <td>6.8</td>\n",
       "      <td>NaN</td>\n",
       "    </tr>\n",
       "    <tr>\n",
       "      <th>...</th>\n",
       "      <td>...</td>\n",
       "      <td>...</td>\n",
       "      <td>...</td>\n",
       "      <td>...</td>\n",
       "      <td>...</td>\n",
       "      <td>...</td>\n",
       "    </tr>\n",
       "    <tr>\n",
       "      <th>28479</th>\n",
       "      <td>WI</td>\n",
       "      <td>zoar</td>\n",
       "      <td>5.3</td>\n",
       "      <td>5.0</td>\n",
       "      <td>5.7</td>\n",
       "      <td>NaN</td>\n",
       "    </tr>\n",
       "    <tr>\n",
       "      <th>28480</th>\n",
       "      <td>WI</td>\n",
       "      <td>westboro</td>\n",
       "      <td>6.5</td>\n",
       "      <td>6.1</td>\n",
       "      <td>6.8</td>\n",
       "      <td>NaN</td>\n",
       "    </tr>\n",
       "    <tr>\n",
       "      <th>28481</th>\n",
       "      <td>WY</td>\n",
       "      <td>guernsey</td>\n",
       "      <td>6.3</td>\n",
       "      <td>6.0</td>\n",
       "      <td>6.6</td>\n",
       "      <td>21943.00</td>\n",
       "    </tr>\n",
       "    <tr>\n",
       "      <th>28482</th>\n",
       "      <td>WI</td>\n",
       "      <td>steuben</td>\n",
       "      <td>6.5</td>\n",
       "      <td>6.2</td>\n",
       "      <td>6.9</td>\n",
       "      <td>NaN</td>\n",
       "    </tr>\n",
       "    <tr>\n",
       "      <th>28483</th>\n",
       "      <td>WY</td>\n",
       "      <td>bairoil</td>\n",
       "      <td>5.4</td>\n",
       "      <td>5.1</td>\n",
       "      <td>5.6</td>\n",
       "      <td>NaN</td>\n",
       "    </tr>\n",
       "  </tbody>\n",
       "</table>\n",
       "<p>28483 rows × 6 columns</p>\n",
       "</div>"
      ],
      "text/plain": [
       "      State       City  Age-adjusted cancer rate (%)  \\\n",
       "0        AL    coaling                           6.4   \n",
       "2        AL    fayette                           6.6   \n",
       "3        AL       guin                           6.7   \n",
       "4        AL  dunnavant                           6.7   \n",
       "5        AL  hartselle                           6.7   \n",
       "...     ...        ...                           ...   \n",
       "28479    WI       zoar                           5.3   \n",
       "28480    WI   westboro                           6.5   \n",
       "28481    WY   guernsey                           6.3   \n",
       "28482    WI    steuben                           6.5   \n",
       "28483    WY    bairoil                           5.4   \n",
       "\n",
       "       Lower CI for cancer rate  Upper CI for cancer rate  \\\n",
       "0                           6.2                       6.7   \n",
       "2                           6.4                       6.8   \n",
       "3                           6.4                       7.0   \n",
       "4                           6.4                       7.0   \n",
       "5                           6.5                       6.8   \n",
       "...                         ...                       ...   \n",
       "28479                       5.0                       5.7   \n",
       "28480                       6.1                       6.8   \n",
       "28481                       6.0                       6.6   \n",
       "28482                       6.2                       6.9   \n",
       "28483                       5.1                       5.6   \n",
       "\n",
       "       Total carcinegon release (lb)  \n",
       "0                                NaN  \n",
       "2                              18.27  \n",
       "3                            2114.00  \n",
       "4                                NaN  \n",
       "5                                NaN  \n",
       "...                              ...  \n",
       "28479                            NaN  \n",
       "28480                            NaN  \n",
       "28481                       21943.00  \n",
       "28482                            NaN  \n",
       "28483                            NaN  \n",
       "\n",
       "[28483 rows x 6 columns]"
      ]
     },
     "execution_count": 223,
     "metadata": {},
     "output_type": "execute_result"
    }
   ],
   "source": [
    "combined_cancer = pd.merge(df_cancerData_important, df_carcinogen_by_loc, left_on=['StateAbbr','LocationName'],right_on=['8. ST','6. CITY'], how='left')\n",
    "combined_cancer = combined_cancer.drop(columns=['8. ST','6. CITY'],index=1)\n",
    "newLabels = [\"State\",\"City\",\"Age-adjusted cancer rate (%)\", \"Lower CI for cancer rate\",\"Upper CI for cancer rate\",\"Total carcinegon release (lb)\"]\n",
    "combined_cancer.columns = newLabels\n",
    "\n",
    "combined_cancer"
   ]
  },
  {
   "cell_type": "code",
   "execution_count": 224,
   "id": "disturbed-lender",
   "metadata": {},
   "outputs": [
    {
     "data": {
      "text/html": [
       "<div>\n",
       "<style scoped>\n",
       "    .dataframe tbody tr th:only-of-type {\n",
       "        vertical-align: middle;\n",
       "    }\n",
       "\n",
       "    .dataframe tbody tr th {\n",
       "        vertical-align: top;\n",
       "    }\n",
       "\n",
       "    .dataframe thead th {\n",
       "        text-align: right;\n",
       "    }\n",
       "</style>\n",
       "<table border=\"1\" class=\"dataframe\">\n",
       "  <thead>\n",
       "    <tr style=\"text-align: right;\">\n",
       "      <th></th>\n",
       "      <th>State</th>\n",
       "      <th>City</th>\n",
       "      <th>Age-adjusted cancer rate (%)</th>\n",
       "      <th>Lower CI for cancer rate</th>\n",
       "      <th>Upper CI for cancer rate</th>\n",
       "      <th>Total carcinegon release (lb)</th>\n",
       "    </tr>\n",
       "  </thead>\n",
       "  <tbody>\n",
       "    <tr>\n",
       "      <th>0</th>\n",
       "      <td>AL</td>\n",
       "      <td>coaling</td>\n",
       "      <td>6.4</td>\n",
       "      <td>6.2</td>\n",
       "      <td>6.7</td>\n",
       "      <td>0.00</td>\n",
       "    </tr>\n",
       "    <tr>\n",
       "      <th>2</th>\n",
       "      <td>AL</td>\n",
       "      <td>fayette</td>\n",
       "      <td>6.6</td>\n",
       "      <td>6.4</td>\n",
       "      <td>6.8</td>\n",
       "      <td>18.27</td>\n",
       "    </tr>\n",
       "    <tr>\n",
       "      <th>3</th>\n",
       "      <td>AL</td>\n",
       "      <td>guin</td>\n",
       "      <td>6.7</td>\n",
       "      <td>6.4</td>\n",
       "      <td>7.0</td>\n",
       "      <td>2114.00</td>\n",
       "    </tr>\n",
       "    <tr>\n",
       "      <th>4</th>\n",
       "      <td>AL</td>\n",
       "      <td>dunnavant</td>\n",
       "      <td>6.7</td>\n",
       "      <td>6.4</td>\n",
       "      <td>7.0</td>\n",
       "      <td>0.00</td>\n",
       "    </tr>\n",
       "    <tr>\n",
       "      <th>5</th>\n",
       "      <td>AL</td>\n",
       "      <td>hartselle</td>\n",
       "      <td>6.7</td>\n",
       "      <td>6.5</td>\n",
       "      <td>6.8</td>\n",
       "      <td>0.00</td>\n",
       "    </tr>\n",
       "    <tr>\n",
       "      <th>...</th>\n",
       "      <td>...</td>\n",
       "      <td>...</td>\n",
       "      <td>...</td>\n",
       "      <td>...</td>\n",
       "      <td>...</td>\n",
       "      <td>...</td>\n",
       "    </tr>\n",
       "    <tr>\n",
       "      <th>28479</th>\n",
       "      <td>WI</td>\n",
       "      <td>zoar</td>\n",
       "      <td>5.3</td>\n",
       "      <td>5.0</td>\n",
       "      <td>5.7</td>\n",
       "      <td>0.00</td>\n",
       "    </tr>\n",
       "    <tr>\n",
       "      <th>28480</th>\n",
       "      <td>WI</td>\n",
       "      <td>westboro</td>\n",
       "      <td>6.5</td>\n",
       "      <td>6.1</td>\n",
       "      <td>6.8</td>\n",
       "      <td>0.00</td>\n",
       "    </tr>\n",
       "    <tr>\n",
       "      <th>28481</th>\n",
       "      <td>WY</td>\n",
       "      <td>guernsey</td>\n",
       "      <td>6.3</td>\n",
       "      <td>6.0</td>\n",
       "      <td>6.6</td>\n",
       "      <td>21943.00</td>\n",
       "    </tr>\n",
       "    <tr>\n",
       "      <th>28482</th>\n",
       "      <td>WI</td>\n",
       "      <td>steuben</td>\n",
       "      <td>6.5</td>\n",
       "      <td>6.2</td>\n",
       "      <td>6.9</td>\n",
       "      <td>0.00</td>\n",
       "    </tr>\n",
       "    <tr>\n",
       "      <th>28483</th>\n",
       "      <td>WY</td>\n",
       "      <td>bairoil</td>\n",
       "      <td>5.4</td>\n",
       "      <td>5.1</td>\n",
       "      <td>5.6</td>\n",
       "      <td>0.00</td>\n",
       "    </tr>\n",
       "  </tbody>\n",
       "</table>\n",
       "<p>28483 rows × 6 columns</p>\n",
       "</div>"
      ],
      "text/plain": [
       "      State       City  Age-adjusted cancer rate (%)  \\\n",
       "0        AL    coaling                           6.4   \n",
       "2        AL    fayette                           6.6   \n",
       "3        AL       guin                           6.7   \n",
       "4        AL  dunnavant                           6.7   \n",
       "5        AL  hartselle                           6.7   \n",
       "...     ...        ...                           ...   \n",
       "28479    WI       zoar                           5.3   \n",
       "28480    WI   westboro                           6.5   \n",
       "28481    WY   guernsey                           6.3   \n",
       "28482    WI    steuben                           6.5   \n",
       "28483    WY    bairoil                           5.4   \n",
       "\n",
       "       Lower CI for cancer rate  Upper CI for cancer rate  \\\n",
       "0                           6.2                       6.7   \n",
       "2                           6.4                       6.8   \n",
       "3                           6.4                       7.0   \n",
       "4                           6.4                       7.0   \n",
       "5                           6.5                       6.8   \n",
       "...                         ...                       ...   \n",
       "28479                       5.0                       5.7   \n",
       "28480                       6.1                       6.8   \n",
       "28481                       6.0                       6.6   \n",
       "28482                       6.2                       6.9   \n",
       "28483                       5.1                       5.6   \n",
       "\n",
       "       Total carcinegon release (lb)  \n",
       "0                               0.00  \n",
       "2                              18.27  \n",
       "3                            2114.00  \n",
       "4                               0.00  \n",
       "5                               0.00  \n",
       "...                              ...  \n",
       "28479                           0.00  \n",
       "28480                           0.00  \n",
       "28481                       21943.00  \n",
       "28482                           0.00  \n",
       "28483                           0.00  \n",
       "\n",
       "[28483 rows x 6 columns]"
      ]
     },
     "execution_count": 224,
     "metadata": {},
     "output_type": "execute_result"
    }
   ],
   "source": [
    "combined_cancer[\"Total carcinegon release (lb)\"] = combined_cancer[\"Total carcinegon release (lb)\"].fillna(0)\n",
    "combined_cancer"
   ]
  },
  {
   "cell_type": "code",
   "execution_count": 249,
   "id": "black-crossing",
   "metadata": {},
   "outputs": [
    {
     "data": {
      "image/png": "[encoded data removed]",
      "text/plain": [
       "<Figure size 432x288 with 1 Axes>"
      ]
     },
     "metadata": {
      "needs_background": "light"
     },
     "output_type": "display_data"
    }
   ],
   "source": [
    "combined_cancer.plot.scatter(y='Age-adjusted cancer rate (%)',x='Total carcinegon release (lb)')\n",
    "plt.xlim(0.1,100000000)\n",
    "plt.xscale('log')"
   ]
  },
  {
   "cell_type": "code",
   "execution_count": 226,
   "id": "conscious-despite",
   "metadata": {},
   "outputs": [
    {
     "name": "stdout",
     "output_type": "stream",
     "text": [
      "The Pearson correlation coefficient is:  -0.012171734143586263 and is statistically significant with a p of  0.03995651043456674\n"
     ]
    }
   ],
   "source": [
    "[r, p] = stats.pearsonr(combined_cancer['Total carcinegon release (lb)'],combined_cancer['Age-adjusted cancer rate (%)'])\n",
    "print(\"The Pearson correlation coefficient is: \", r, \"and is statistically significant with a p of \", p)"
   ]
  },
  {
   "cell_type": "markdown",
   "id": "operational-wrist",
   "metadata": {},
   "source": [
    "So not really the expected trend, not super surprising given the contraints of the data set, and the fact that concentrations decrease by a r^3 dependence."
   ]
  },
  {
   "cell_type": "markdown",
   "id": "saving-preliminary",
   "metadata": {},
   "source": [
    "### Dr. Bart likes histograms, probably should check the overall distributions\n",
    "\n",
    "Should probably go above...."
   ]
  },
  {
   "cell_type": "code",
   "execution_count": 238,
   "id": "processed-formation",
   "metadata": {},
   "outputs": [
    {
     "data": {
      "text/plain": [
       "array([[<AxesSubplot:title={'center':'Age-adjusted cancer rate (%)'}>]],\n",
       "      dtype=object)"
      ]
     },
     "execution_count": 238,
     "metadata": {},
     "output_type": "execute_result"
    },
    {
     "data": {
      "image/png": "[encoded data removed]",
      "text/plain": [
       "<Figure size 432x288 with 1 Axes>"
      ]
     },
     "metadata": {
      "needs_background": "light"
     },
     "output_type": "display_data"
    }
   ],
   "source": [
    "combined_cancer.hist(column = 'Age-adjusted cancer rate (%)',bins=14) # Similar in most places..."
   ]
  },
  {
   "cell_type": "code",
   "execution_count": 239,
   "id": "exceptional-stack",
   "metadata": {},
   "outputs": [
    {
     "data": {
      "text/plain": [
       "array([[<AxesSubplot:title={'center':'Total carcinegon release (lb)'}>]],\n",
       "      dtype=object)"
      ]
     },
     "execution_count": 239,
     "metadata": {},
     "output_type": "execute_result"
    },
    {
     "data": {
      "image/png": "[encoded data removed]",
      "text/plain": [
       "<Figure size 432x288 with 1 Axes>"
      ]
     },
     "metadata": {
      "needs_background": "light"
     },
     "output_type": "display_data"
    }
   ],
   "source": [
    "combined_cancer.hist(column = 'Total carcinegon release (lb)',bins=100) # vast majority of cities have no recorded emissions."
   ]
  },
  {
   "cell_type": "code",
   "execution_count": 240,
   "id": "registered-pocket",
   "metadata": {},
   "outputs": [
    {
     "data": {
      "image/png": "[encoded data removed]",
      "text/plain": [
       "<Figure size 432x288 with 1 Axes>"
      ]
     },
     "metadata": {
      "needs_background": "light"
     },
     "output_type": "display_data"
    }
   ],
   "source": [
    "combined_cancer.hist(column = 'Total carcinegon release (lb)',bins=100) # vast majority of cities have no recorded emissions\n",
    "plt.xscale('log')"
   ]
  },
  {
   "cell_type": "code",
   "execution_count": 241,
   "id": "touched-dressing",
   "metadata": {},
   "outputs": [
    {
     "data": {
      "image/png": "[encoded data removed]",
      "text/plain": [
       "<Figure size 432x288 with 1 Axes>"
      ]
     },
     "metadata": {
      "needs_background": "light"
     },
     "output_type": "display_data"
    }
   ],
   "source": [
    "# learned the log scale: https://stackoverflow.com/questions/47850202/plotting-a-histogram-on-a-log-scale-with-matplotlib\n",
    "\n",
    "x = combined_cancer['Total carcinegon release (lb)'] + 1 # Plus one to make the transformation work...\n",
    "hist, bins = np.histogram(x, bins=16)\n",
    "logbins = np.logspace(np.log10(bins[0]),np.log10(bins[-1]),len(bins))\n",
    "plt.hist(x, bins=logbins)\n",
    "plt.xscale('log')\n",
    "plt.yscale('log')\n",
    "plt.show()"
   ]
  },
  {
   "cell_type": "markdown",
   "id": "realistic-marks",
   "metadata": {},
   "source": [
    "### What if we only look at emissions from water?\n",
    "\n",
    "Water emissions - one would think, would have a less strong dependence on distance from the facitlity,\n",
    "need to start by remaking the cancer dataset:"
   ]
  },
  {
   "cell_type": "code",
   "execution_count": 251,
   "id": "lesbian-forge",
   "metadata": {},
   "outputs": [],
   "source": [
    "gb_carcinogen_by_loc_water = df_carcinogen.groupby(['8. ST','6. CITY'])['47. 5.3 - WATER'].sum()\n",
    "df_carcinogen_by_loc_water = gb_carcinogen_by_loc_water.reset_index()\n",
    "df_carcinogen_by_loc_water['6. CITY'] = df_carcinogen_by_loc_water['6. CITY'].str.lower()\n",
    "combined_cancer_water = pd.merge(df_cancerData_important, df_carcinogen_by_loc_water, left_on=['StateAbbr','LocationName'],right_on=['8. ST','6. CITY'], how='left')\n",
    "combined_cancer_water = combined_cancer_water.drop(columns=['8. ST','6. CITY'],index=1)\n",
    "newLabels = [\"State\",\"City\",\"Age-adjusted cancer rate (%)\", \"Lower CI for cancer rate\",\"Upper CI for cancer rate\",\"Total carcinegon releases to water (lb)\"]\n",
    "combined_cancer_water.columns = newLabels"
   ]
  },
  {
   "cell_type": "code",
   "execution_count": 279,
   "id": "following-lobby",
   "metadata": {},
   "outputs": [
    {
     "data": {
      "text/plain": [
       "(4.0, 7.0)"
      ]
     },
     "execution_count": 279,
     "metadata": {},
     "output_type": "execute_result"
    },
    {
     "data": {
      "image/png": "[encoded data removed]",
      "text/plain": [
       "<Figure size 432x288 with 1 Axes>"
      ]
     },
     "metadata": {
      "needs_background": "light"
     },
     "output_type": "display_data"
    }
   ],
   "source": [
    "# Setting nan to zero:\n",
    "combined_cancer_water0 = combined_cancer_water\n",
    "combined_cancer_water0[\"Total carcinegon releases to water (lb)\"] = combined_cancer_water0[\"Total carcinegon releases to water (lb)\"].fillna(0)\n",
    "combined_cancer_water0.plot.scatter(y='Age-adjusted cancer rate (%)',x=\"Total carcinegon releases to water (lb)\")\n",
    "plt.xscale('log')\n",
    "plt.xlim(0.1,100000)\n",
    "plt.ylim(4,7)"
   ]
  },
  {
   "cell_type": "code",
   "execution_count": 245,
   "id": "constant-impression",
   "metadata": {},
   "outputs": [
    {
     "name": "stdout",
     "output_type": "stream",
     "text": [
      "The Pearson correlation coefficient is:  -0.006020940627801662 and is statistically significant with a p of  0.3095754925067597\n"
     ]
    }
   ],
   "source": [
    "# Dropping\n",
    "[r, p] = stats.pearsonr(combined_cancer_water0[\"Total carcinegon releases to water (lb)\"],combined_cancer_water0['Age-adjusted cancer rate (%)'])\n",
    "print(\"The Pearson correlation coefficient is: \", r, \"and is statistically significant with a p of \", p)"
   ]
  },
  {
   "cell_type": "markdown",
   "id": "comparative-commission",
   "metadata": {},
   "source": [
    "The Pearson correlation coefficient is:  -0.017525840739286737 and is statistically significant with a p of  0.24640903448061305\n",
    "\n",
    "Is the output if the zeros are not included....\n",
    "\n",
    "Both not signficant. Likely too much noise\n",
    "\n",
    "Out of interest what happens if we drop zeros?"
   ]
  },
  {
   "cell_type": "code",
   "execution_count": 254,
   "id": "wicked-ministry",
   "metadata": {},
   "outputs": [
    {
     "name": "stdout",
     "output_type": "stream",
     "text": [
      "The Pearson correlation coefficient is:  -0.04093921432921953 and is statistically significant with a p of  0.25497972461319723\n"
     ]
    },
    {
     "data": {
      "image/png": "[encoded data removed]",
      "text/plain": [
       "<Figure size 432x288 with 1 Axes>"
      ]
     },
     "metadata": {
      "needs_background": "light"
     },
     "output_type": "display_data"
    }
   ],
   "source": [
    "only_emissions = combined_cancer_water[(combined_cancer_water[\"Total carcinegon releases to water (lb)\"]>1)]\n",
    "only_emissions.plot.scatter(y='Age-adjusted cancer rate (%)',x=\"Total carcinegon releases to water (lb)\")\n",
    "plt.xscale('log')\n",
    "[r, p] = stats.pearsonr(only_emissions[\"Total carcinegon releases to water (lb)\"],only_emissions['Age-adjusted cancer rate (%)'])\n",
    "print(\"The Pearson correlation coefficient is: \", r, \"and is statistically significant with a p of \", p)"
   ]
  },
  {
   "cell_type": "markdown",
   "id": "lesbian-turtle",
   "metadata": {},
   "source": [
    "## Okay, what about landfills?\n",
    "\n",
    "\n"
   ]
  },
  {
   "cell_type": "code",
   "execution_count": 287,
   "id": "equal-guinea",
   "metadata": {},
   "outputs": [],
   "source": [
    "gb_carcinogen_by_loc_land = df_carcinogen.groupby(['8. ST','6. CITY'])['54. 5.5.2 - LAND TREATMENT'].sum()\n",
    "df_carcinogen_by_loc_land = gb_carcinogen_by_loc_land.reset_index()\n",
    "df_carcinogen_by_loc_land['6. CITY'] = df_carcinogen_by_loc_land['6. CITY'].str.lower()\n",
    "combined_cancer_land = pd.merge(df_cancerData_important, df_carcinogen_by_loc_land, left_on=['StateAbbr','LocationName'],right_on=['8. ST','6. CITY'], how='left')\n",
    "combined_cancer_land = combined_cancer_land.drop(columns=['8. ST','6. CITY'],index=1)\n",
    "newLabels = [\"State\",\"City\",\"Age-adjusted cancer rate (%)\", \"Lower CI for cancer rate\",\"Upper CI for cancer rate\",\"Total carcinegon releases to landfills (lb)\"]\n",
    "combined_cancer_land.columns = newLabels"
   ]
  },
  {
   "cell_type": "code",
   "execution_count": 288,
   "id": "affiliated-hands",
   "metadata": {},
   "outputs": [
    {
     "data": {
      "text/plain": [
       "(0.01, 100000)"
      ]
     },
     "execution_count": 288,
     "metadata": {},
     "output_type": "execute_result"
    },
    {
     "data": {
      "image/png": "[encoded data removed]",
      "text/plain": [
       "<Figure size 432x288 with 1 Axes>"
      ]
     },
     "metadata": {
      "needs_background": "light"
     },
     "output_type": "display_data"
    }
   ],
   "source": [
    "# Setting nan to zero:\n",
    "combined_cancer_land = combined_cancer_land\n",
    "combined_cancer_land[\"Total carcinegon releases to water (lb)\"] = combined_cancer_land[\"Total carcinegon releases to landfills (lb)\"].fillna(0.1) # artificial line on scatter\n",
    "combined_cancer_land.plot.scatter(y='Age-adjusted cancer rate (%)',x=\"Total carcinegon releases to water (lb)\")\n",
    "plt.xscale('log')\n",
    "plt.xlim(0.01,100000)"
   ]
  },
  {
   "cell_type": "code",
   "execution_count": 286,
   "id": "searching-pantyhose",
   "metadata": {},
   "outputs": [
    {
     "name": "stdout",
     "output_type": "stream",
     "text": [
      "The Pearson correlation coefficient is:  0.0034349915921680504 and is statistically significant with a p of  0.5621192266720559\n"
     ]
    }
   ],
   "source": [
    "[r, p] = stats.pearsonr(combined_cancer_land[\"Total carcinegon releases to landfills (lb)\"],combined_cancer_land['Age-adjusted cancer rate (%)'])\n",
    "print(\"The Pearson correlation coefficient is: \", r, \"and is statistically significant with a p of \", p)"
   ]
  },
  {
   "cell_type": "markdown",
   "id": "stuck-boring",
   "metadata": {},
   "source": [
    "Not signficant....."
   ]
  },
  {
   "cell_type": "markdown",
   "id": "basic-perth",
   "metadata": {},
   "source": [
    "## Onto Asthma\n",
    "\n",
    "Looks like the TRI does not report NOx... but they do have SOx"
   ]
  },
  {
   "cell_type": "code",
   "execution_count": 311,
   "id": "earlier-draft",
   "metadata": {},
   "outputs": [],
   "source": [
    "df_TRI_ozone = df_TRI[df_TRI['34. CHEMICAL']=='Ozone'] # not a promisingly large data set...\n",
    "\n",
    "gb_ozone = df_TRI_ozone.groupby(['8. ST','6. CITY'])['101. TOTAL RELEASES'].sum()\n",
    "df_ozone = gb_ozone.reset_index()\n",
    "df_ozone['6. CITY'] = df_ozone['6. CITY'].str.lower()\n",
    "combined_ozone = pd.merge(df_cancerData_important, df_ozone, left_on=['StateAbbr','LocationName'],right_on=['8. ST','6. CITY'], how='left')\n",
    "combined_ozone = combined_ozone.drop(columns=['8. ST','6. CITY'],index=1)\n",
    "newLabels = [\"State\",\"City\",\"Age-adjusted cancer rate (%)\", \"Lower CI for cancer rate\",\"Upper CI for cancer rate\",\"Total carcinegon releases (lb)\"]\n",
    "combined_ozone.columns = newLabels"
   ]
  },
  {
   "cell_type": "code",
   "execution_count": 315,
   "id": "minor-vintage",
   "metadata": {},
   "outputs": [
    {
     "data": {
      "text/plain": [
       "<AxesSubplot:xlabel='Total carcinegon releases (lb)', ylabel='Age-adjusted cancer rate (%)'>"
      ]
     },
     "execution_count": 315,
     "metadata": {},
     "output_type": "execute_result"
    },
    {
     "data": {
      "image/png": "[encoded data removed]",
      "text/plain": [
       "<Figure size 432x288 with 1 Axes>"
      ]
     },
     "metadata": {
      "needs_background": "light"
     },
     "output_type": "display_data"
    }
   ],
   "source": [
    "combined_ozone_noNa = combined_ozone.dropna()\n",
    "combined_ozone_noNa.plot.scatter(y='Age-adjusted cancer rate (%)',x=\"Total carcinegon releases (lb)\")"
   ]
  },
  {
   "cell_type": "code",
   "execution_count": 316,
   "id": "linear-mailman",
   "metadata": {},
   "outputs": [
    {
     "name": "stdout",
     "output_type": "stream",
     "text": [
      "The Pearson correlation coefficient is:  0.4128443744651564 and is statistically significant with a p of  0.0323380532945247\n"
     ]
    }
   ],
   "source": [
    "[r, p] = stats.pearsonr(combined_ozone_noNa[\"Total carcinegon releases (lb)\"],combined_ozone_noNa['Age-adjusted cancer rate (%)'])\n",
    "print(\"The Pearson correlation coefficient is: \", r, \"and is statistically significant with a p of \", p)"
   ]
  },
  {
   "cell_type": "code",
   "execution_count": 317,
   "id": "sitting-rental",
   "metadata": {},
   "outputs": [
    {
     "name": "stdout",
     "output_type": "stream",
     "text": [
      "The Pearson correlation coefficient is:  0.002422428521683183 and is statistically significant with a p of  0.6826764046522904\n"
     ]
    }
   ],
   "source": [
    "combined_ozone_0 = combined_ozone.fillna(0)\n",
    "[r, p] = stats.pearsonr(combined_ozone_0[\"Total carcinegon releases (lb)\"],combined_ozone_0['Age-adjusted cancer rate (%)'])\n",
    "print(\"The Pearson correlation coefficient is: \", r, \"and is statistically significant with a p of \", p)"
   ]
  },
  {
   "cell_type": "markdown",
   "id": "technological-customer",
   "metadata": {},
   "source": [
    "Lets try SOx..."
   ]
  }
 ],
 "metadata": {
  "kernelspec": {
   "display_name": "Python 3",
   "language": "python",
   "name": "python3"
  },
  "language_info": {
   "codemirror_mode": {
    "name": "ipython",
    "version": 3
   },
   "file_extension": ".py",
   "mimetype": "text/x-python",
   "name": "python",
   "nbconvert_exporter": "python",
   "pygments_lexer": "ipython3",
   "version": "3.7.2"
  }
 },
 "nbformat": 4,
 "nbformat_minor": 5
}
