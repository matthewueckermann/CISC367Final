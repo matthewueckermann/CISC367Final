{
 "cells": [
  {
   "cell_type": "code",
   "execution_count": 7,
   "id": "sorted-money",
   "metadata": {},
   "outputs": [],
   "source": [
    "import pandas as pd\n",
    "import seaborn as sb\n",
    "from matplotlib import pyplot as plt\n",
    "from  scipy import stats \n",
    "import numpy as np"
   ]
  },
  {
   "cell_type": "code",
   "execution_count": 60,
   "id": "unable-tenant",
   "metadata": {},
   "outputs": [],
   "source": [
    "#https://chronicdata.cdc.gov/500-Cities-Places/PLACES-Local-Data-for-Better-Health-Place-Data-202/eav7-hnsx\n",
    "\n",
    "\n",
    "#df_medical = pd.read_csv('https://chronicdata.cdc.gov/api/views/eav7-hnsx/rows.csv?accessType=DOWNLOAD&bom=true&format=true') # Takes a long time to load\n",
    "df_medical = pd.read_csv('PLACES__Local_Data_for_Better_Health__Place_Data_2020_release.csv')"
   ]
  },
  {
   "cell_type": "code",
   "execution_count": 62,
   "id": "adolescent-gazette",
   "metadata": {},
   "outputs": [
    {
     "data": {
      "text/html": [
       "<div>\n",
       "<style scoped>\n",
       "    .dataframe tbody tr th:only-of-type {\n",
       "        vertical-align: middle;\n",
       "    }\n",
       "\n",
       "    .dataframe tbody tr th {\n",
       "        vertical-align: top;\n",
       "    }\n",
       "\n",
       "    .dataframe thead th {\n",
       "        text-align: right;\n",
       "    }\n",
       "</style>\n",
       "<table border=\"1\" class=\"dataframe\">\n",
       "  <thead>\n",
       "    <tr style=\"text-align: right;\">\n",
       "      <th></th>\n",
       "      <th>Year</th>\n",
       "      <th>StateAbbr</th>\n",
       "      <th>StateDesc</th>\n",
       "      <th>LocationName</th>\n",
       "      <th>DataSource</th>\n",
       "      <th>Category</th>\n",
       "      <th>Measure</th>\n",
       "      <th>Data_Value_Unit</th>\n",
       "      <th>Data_Value_Type</th>\n",
       "      <th>Data_Value</th>\n",
       "      <th>...</th>\n",
       "      <th>Data_Value_Footnote</th>\n",
       "      <th>Low_Confidence_Limit</th>\n",
       "      <th>High_Confidence_Limit</th>\n",
       "      <th>TotalPopulation</th>\n",
       "      <th>Geolocation</th>\n",
       "      <th>LocationID</th>\n",
       "      <th>CategoryID</th>\n",
       "      <th>MeasureId</th>\n",
       "      <th>DataValueTypeID</th>\n",
       "      <th>Short_Question_Text</th>\n",
       "    </tr>\n",
       "  </thead>\n",
       "  <tbody>\n",
       "    <tr>\n",
       "      <th>802</th>\n",
       "      <td>2018</td>\n",
       "      <td>ND</td>\n",
       "      <td>North Dakota</td>\n",
       "      <td>Milton</td>\n",
       "      <td>BRFSS</td>\n",
       "      <td>Health Outcomes</td>\n",
       "      <td>Current asthma among adults aged &gt;=18 years</td>\n",
       "      <td>%</td>\n",
       "      <td>Age-adjusted prevalence</td>\n",
       "      <td>9.0</td>\n",
       "      <td>...</td>\n",
       "      <td>NaN</td>\n",
       "      <td>8.4</td>\n",
       "      <td>9.6</td>\n",
       "      <td>61</td>\n",
       "      <td>POINT (-98.04596409 48.62600626)</td>\n",
       "      <td>3853020</td>\n",
       "      <td>HLTHOUT</td>\n",
       "      <td>CASTHMA</td>\n",
       "      <td>AgeAdjPrv</td>\n",
       "      <td>Current Asthma</td>\n",
       "    </tr>\n",
       "    <tr>\n",
       "      <th>1230</th>\n",
       "      <td>2018</td>\n",
       "      <td>AL</td>\n",
       "      <td>Alabama</td>\n",
       "      <td>Athens</td>\n",
       "      <td>BRFSS</td>\n",
       "      <td>Health Outcomes</td>\n",
       "      <td>Current asthma among adults aged &gt;=18 years</td>\n",
       "      <td>%</td>\n",
       "      <td>Age-adjusted prevalence</td>\n",
       "      <td>10.6</td>\n",
       "      <td>...</td>\n",
       "      <td>NaN</td>\n",
       "      <td>10.4</td>\n",
       "      <td>10.8</td>\n",
       "      <td>21889</td>\n",
       "      <td>POINT (-86.95033973 34.78480907)</td>\n",
       "      <td>102956</td>\n",
       "      <td>HLTHOUT</td>\n",
       "      <td>CASTHMA</td>\n",
       "      <td>AgeAdjPrv</td>\n",
       "      <td>Current Asthma</td>\n",
       "    </tr>\n",
       "    <tr>\n",
       "      <th>1334</th>\n",
       "      <td>2018</td>\n",
       "      <td>AL</td>\n",
       "      <td>Alabama</td>\n",
       "      <td>Cottondale</td>\n",
       "      <td>BRFSS</td>\n",
       "      <td>Health Outcomes</td>\n",
       "      <td>Current asthma among adults aged &gt;=18 years</td>\n",
       "      <td>%</td>\n",
       "      <td>Age-adjusted prevalence</td>\n",
       "      <td>10.4</td>\n",
       "      <td>...</td>\n",
       "      <td>NaN</td>\n",
       "      <td>10.1</td>\n",
       "      <td>10.7</td>\n",
       "      <td>3198</td>\n",
       "      <td>POINT (-87.45111808 33.19907467)</td>\n",
       "      <td>117704</td>\n",
       "      <td>HLTHOUT</td>\n",
       "      <td>CASTHMA</td>\n",
       "      <td>AgeAdjPrv</td>\n",
       "      <td>Current Asthma</td>\n",
       "    </tr>\n",
       "    <tr>\n",
       "      <th>1343</th>\n",
       "      <td>2018</td>\n",
       "      <td>AL</td>\n",
       "      <td>Alabama</td>\n",
       "      <td>Gilbertown</td>\n",
       "      <td>BRFSS</td>\n",
       "      <td>Health Outcomes</td>\n",
       "      <td>Current asthma among adults aged &gt;=18 years</td>\n",
       "      <td>%</td>\n",
       "      <td>Age-adjusted prevalence</td>\n",
       "      <td>10.9</td>\n",
       "      <td>...</td>\n",
       "      <td>NaN</td>\n",
       "      <td>10.2</td>\n",
       "      <td>11.7</td>\n",
       "      <td>215</td>\n",
       "      <td>POINT (-88.31948881 31.87579061)</td>\n",
       "      <td>129704</td>\n",
       "      <td>HLTHOUT</td>\n",
       "      <td>CASTHMA</td>\n",
       "      <td>AgeAdjPrv</td>\n",
       "      <td>Current Asthma</td>\n",
       "    </tr>\n",
       "    <tr>\n",
       "      <th>1349</th>\n",
       "      <td>2018</td>\n",
       "      <td>AL</td>\n",
       "      <td>Alabama</td>\n",
       "      <td>Boligee</td>\n",
       "      <td>BRFSS</td>\n",
       "      <td>Health Outcomes</td>\n",
       "      <td>Current asthma among adults aged &gt;=18 years</td>\n",
       "      <td>%</td>\n",
       "      <td>Age-adjusted prevalence</td>\n",
       "      <td>14.0</td>\n",
       "      <td>...</td>\n",
       "      <td>NaN</td>\n",
       "      <td>12.9</td>\n",
       "      <td>15.1</td>\n",
       "      <td>328</td>\n",
       "      <td>POINT (-88.02645546 32.76997226)</td>\n",
       "      <td>108104</td>\n",
       "      <td>HLTHOUT</td>\n",
       "      <td>CASTHMA</td>\n",
       "      <td>AgeAdjPrv</td>\n",
       "      <td>Current Asthma</td>\n",
       "    </tr>\n",
       "    <tr>\n",
       "      <th>...</th>\n",
       "      <td>...</td>\n",
       "      <td>...</td>\n",
       "      <td>...</td>\n",
       "      <td>...</td>\n",
       "      <td>...</td>\n",
       "      <td>...</td>\n",
       "      <td>...</td>\n",
       "      <td>...</td>\n",
       "      <td>...</td>\n",
       "      <td>...</td>\n",
       "      <td>...</td>\n",
       "      <td>...</td>\n",
       "      <td>...</td>\n",
       "      <td>...</td>\n",
       "      <td>...</td>\n",
       "      <td>...</td>\n",
       "      <td>...</td>\n",
       "      <td>...</td>\n",
       "      <td>...</td>\n",
       "      <td>...</td>\n",
       "      <td>...</td>\n",
       "    </tr>\n",
       "    <tr>\n",
       "      <th>1592667</th>\n",
       "      <td>2018</td>\n",
       "      <td>WI</td>\n",
       "      <td>Wisconsin</td>\n",
       "      <td>Waupun</td>\n",
       "      <td>BRFSS</td>\n",
       "      <td>Health Outcomes</td>\n",
       "      <td>Current asthma among adults aged &gt;=18 years</td>\n",
       "      <td>%</td>\n",
       "      <td>Age-adjusted prevalence</td>\n",
       "      <td>8.9</td>\n",
       "      <td>...</td>\n",
       "      <td>NaN</td>\n",
       "      <td>8.5</td>\n",
       "      <td>9.3</td>\n",
       "      <td>11357</td>\n",
       "      <td>POINT (-88.73778331 43.63160974)</td>\n",
       "      <td>5584425</td>\n",
       "      <td>HLTHOUT</td>\n",
       "      <td>CASTHMA</td>\n",
       "      <td>AgeAdjPrv</td>\n",
       "      <td>Current Asthma</td>\n",
       "    </tr>\n",
       "    <tr>\n",
       "      <th>1592692</th>\n",
       "      <td>2018</td>\n",
       "      <td>WI</td>\n",
       "      <td>Wisconsin</td>\n",
       "      <td>Thorp</td>\n",
       "      <td>BRFSS</td>\n",
       "      <td>Health Outcomes</td>\n",
       "      <td>Current asthma among adults aged &gt;=18 years</td>\n",
       "      <td>%</td>\n",
       "      <td>Age-adjusted prevalence</td>\n",
       "      <td>10.3</td>\n",
       "      <td>...</td>\n",
       "      <td>NaN</td>\n",
       "      <td>9.5</td>\n",
       "      <td>11.2</td>\n",
       "      <td>1621</td>\n",
       "      <td>POINT (-90.80060875 44.95705241)</td>\n",
       "      <td>5579625</td>\n",
       "      <td>HLTHOUT</td>\n",
       "      <td>CASTHMA</td>\n",
       "      <td>AgeAdjPrv</td>\n",
       "      <td>Current Asthma</td>\n",
       "    </tr>\n",
       "    <tr>\n",
       "      <th>1592807</th>\n",
       "      <td>2018</td>\n",
       "      <td>WY</td>\n",
       "      <td>Wyoming</td>\n",
       "      <td>Star Valley Ranch</td>\n",
       "      <td>BRFSS</td>\n",
       "      <td>Health Outcomes</td>\n",
       "      <td>Current asthma among adults aged &gt;=18 years</td>\n",
       "      <td>%</td>\n",
       "      <td>Age-adjusted prevalence</td>\n",
       "      <td>8.7</td>\n",
       "      <td>...</td>\n",
       "      <td>NaN</td>\n",
       "      <td>8.2</td>\n",
       "      <td>9.3</td>\n",
       "      <td>1504</td>\n",
       "      <td>POINT (-110.9585929 42.97438371)</td>\n",
       "      <td>5673180</td>\n",
       "      <td>HLTHOUT</td>\n",
       "      <td>CASTHMA</td>\n",
       "      <td>AgeAdjPrv</td>\n",
       "      <td>Current Asthma</td>\n",
       "    </tr>\n",
       "    <tr>\n",
       "      <th>1593013</th>\n",
       "      <td>2018</td>\n",
       "      <td>WI</td>\n",
       "      <td>Wisconsin</td>\n",
       "      <td>Union Grove</td>\n",
       "      <td>BRFSS</td>\n",
       "      <td>Health Outcomes</td>\n",
       "      <td>Current asthma among adults aged &gt;=18 years</td>\n",
       "      <td>%</td>\n",
       "      <td>Age-adjusted prevalence</td>\n",
       "      <td>9.9</td>\n",
       "      <td>...</td>\n",
       "      <td>NaN</td>\n",
       "      <td>9.3</td>\n",
       "      <td>10.5</td>\n",
       "      <td>4915</td>\n",
       "      <td>POINT (-88.04919252 42.68615685)</td>\n",
       "      <td>5581775</td>\n",
       "      <td>HLTHOUT</td>\n",
       "      <td>CASTHMA</td>\n",
       "      <td>AgeAdjPrv</td>\n",
       "      <td>Current Asthma</td>\n",
       "    </tr>\n",
       "    <tr>\n",
       "      <th>1593064</th>\n",
       "      <td>2018</td>\n",
       "      <td>WY</td>\n",
       "      <td>Wyoming</td>\n",
       "      <td>Ten Sleep</td>\n",
       "      <td>BRFSS</td>\n",
       "      <td>Health Outcomes</td>\n",
       "      <td>Current asthma among adults aged &gt;=18 years</td>\n",
       "      <td>%</td>\n",
       "      <td>Age-adjusted prevalence</td>\n",
       "      <td>9.3</td>\n",
       "      <td>...</td>\n",
       "      <td>NaN</td>\n",
       "      <td>8.7</td>\n",
       "      <td>10.0</td>\n",
       "      <td>260</td>\n",
       "      <td>POINT (-107.4483287 44.03500856)</td>\n",
       "      <td>5675790</td>\n",
       "      <td>HLTHOUT</td>\n",
       "      <td>CASTHMA</td>\n",
       "      <td>AgeAdjPrv</td>\n",
       "      <td>Current Asthma</td>\n",
       "    </tr>\n",
       "  </tbody>\n",
       "</table>\n",
       "<p>28484 rows × 21 columns</p>\n",
       "</div>"
      ],
      "text/plain": [
       "         Year StateAbbr     StateDesc       LocationName DataSource  \\\n",
       "802      2018        ND  North Dakota             Milton      BRFSS   \n",
       "1230     2018        AL       Alabama             Athens      BRFSS   \n",
       "1334     2018        AL       Alabama         Cottondale      BRFSS   \n",
       "1343     2018        AL       Alabama         Gilbertown      BRFSS   \n",
       "1349     2018        AL       Alabama            Boligee      BRFSS   \n",
       "...       ...       ...           ...                ...        ...   \n",
       "1592667  2018        WI     Wisconsin             Waupun      BRFSS   \n",
       "1592692  2018        WI     Wisconsin              Thorp      BRFSS   \n",
       "1592807  2018        WY       Wyoming  Star Valley Ranch      BRFSS   \n",
       "1593013  2018        WI     Wisconsin        Union Grove      BRFSS   \n",
       "1593064  2018        WY       Wyoming          Ten Sleep      BRFSS   \n",
       "\n",
       "                Category                                      Measure  \\\n",
       "802      Health Outcomes  Current asthma among adults aged >=18 years   \n",
       "1230     Health Outcomes  Current asthma among adults aged >=18 years   \n",
       "1334     Health Outcomes  Current asthma among adults aged >=18 years   \n",
       "1343     Health Outcomes  Current asthma among adults aged >=18 years   \n",
       "1349     Health Outcomes  Current asthma among adults aged >=18 years   \n",
       "...                  ...                                          ...   \n",
       "1592667  Health Outcomes  Current asthma among adults aged >=18 years   \n",
       "1592692  Health Outcomes  Current asthma among adults aged >=18 years   \n",
       "1592807  Health Outcomes  Current asthma among adults aged >=18 years   \n",
       "1593013  Health Outcomes  Current asthma among adults aged >=18 years   \n",
       "1593064  Health Outcomes  Current asthma among adults aged >=18 years   \n",
       "\n",
       "        Data_Value_Unit          Data_Value_Type  Data_Value  ...  \\\n",
       "802                   %  Age-adjusted prevalence         9.0  ...   \n",
       "1230                  %  Age-adjusted prevalence        10.6  ...   \n",
       "1334                  %  Age-adjusted prevalence        10.4  ...   \n",
       "1343                  %  Age-adjusted prevalence        10.9  ...   \n",
       "1349                  %  Age-adjusted prevalence        14.0  ...   \n",
       "...                 ...                      ...         ...  ...   \n",
       "1592667               %  Age-adjusted prevalence         8.9  ...   \n",
       "1592692               %  Age-adjusted prevalence        10.3  ...   \n",
       "1592807               %  Age-adjusted prevalence         8.7  ...   \n",
       "1593013               %  Age-adjusted prevalence         9.9  ...   \n",
       "1593064               %  Age-adjusted prevalence         9.3  ...   \n",
       "\n",
       "        Data_Value_Footnote Low_Confidence_Limit  High_Confidence_Limit  \\\n",
       "802                     NaN                  8.4                    9.6   \n",
       "1230                    NaN                 10.4                   10.8   \n",
       "1334                    NaN                 10.1                   10.7   \n",
       "1343                    NaN                 10.2                   11.7   \n",
       "1349                    NaN                 12.9                   15.1   \n",
       "...                     ...                  ...                    ...   \n",
       "1592667                 NaN                  8.5                    9.3   \n",
       "1592692                 NaN                  9.5                   11.2   \n",
       "1592807                 NaN                  8.2                    9.3   \n",
       "1593013                 NaN                  9.3                   10.5   \n",
       "1593064                 NaN                  8.7                   10.0   \n",
       "\n",
       "         TotalPopulation                       Geolocation LocationID  \\\n",
       "802                   61  POINT (-98.04596409 48.62600626)    3853020   \n",
       "1230               21889  POINT (-86.95033973 34.78480907)     102956   \n",
       "1334                3198  POINT (-87.45111808 33.19907467)     117704   \n",
       "1343                 215  POINT (-88.31948881 31.87579061)     129704   \n",
       "1349                 328  POINT (-88.02645546 32.76997226)     108104   \n",
       "...                  ...                               ...        ...   \n",
       "1592667            11357  POINT (-88.73778331 43.63160974)    5584425   \n",
       "1592692             1621  POINT (-90.80060875 44.95705241)    5579625   \n",
       "1592807             1504  POINT (-110.9585929 42.97438371)    5673180   \n",
       "1593013             4915  POINT (-88.04919252 42.68615685)    5581775   \n",
       "1593064              260  POINT (-107.4483287 44.03500856)    5675790   \n",
       "\n",
       "         CategoryID MeasureId DataValueTypeID Short_Question_Text  \n",
       "802         HLTHOUT   CASTHMA       AgeAdjPrv      Current Asthma  \n",
       "1230        HLTHOUT   CASTHMA       AgeAdjPrv      Current Asthma  \n",
       "1334        HLTHOUT   CASTHMA       AgeAdjPrv      Current Asthma  \n",
       "1343        HLTHOUT   CASTHMA       AgeAdjPrv      Current Asthma  \n",
       "1349        HLTHOUT   CASTHMA       AgeAdjPrv      Current Asthma  \n",
       "...             ...       ...             ...                 ...  \n",
       "1592667     HLTHOUT   CASTHMA       AgeAdjPrv      Current Asthma  \n",
       "1592692     HLTHOUT   CASTHMA       AgeAdjPrv      Current Asthma  \n",
       "1592807     HLTHOUT   CASTHMA       AgeAdjPrv      Current Asthma  \n",
       "1593013     HLTHOUT   CASTHMA       AgeAdjPrv      Current Asthma  \n",
       "1593064     HLTHOUT   CASTHMA       AgeAdjPrv      Current Asthma  \n",
       "\n",
       "[28484 rows x 21 columns]"
      ]
     },
     "execution_count": 62,
     "metadata": {},
     "output_type": "execute_result"
    }
   ],
   "source": [
    "df_cancerData = df_medical[(df_medical['MeasureId']=='CANCER') & (df_medical['Data_Value_Type']=='Age-adjusted prevalence')]\n",
    "df_asthmaData = df_medical[(df_medical['MeasureId']=='CASTHMA') & (df_medical['Data_Value_Type']=='Age-adjusted prevalence')]\n",
    "del df_medical # free up any space"
   ]
  },
  {
   "cell_type": "code",
   "execution_count": 65,
   "id": "narrative-olympus",
   "metadata": {},
   "outputs": [],
   "source": [
    "df_asthmaData_important = df_asthmaData[['StateAbbr','LocationName','Data_Value','Low_Confidence_Limit','High_Confidence_Limit']] \n",
    "df_cancerData_important = df_cancerData[['StateAbbr','LocationName','Data_Value','Low_Confidence_Limit','High_Confidence_Limit']] "
   ]
  },
  {
   "cell_type": "code",
   "execution_count": 11,
   "id": "dirty-concept",
   "metadata": {},
   "outputs": [],
   "source": [
    "df_TRI_2018 = pd.read_csv('https://enviro.epa.gov/enviro/efservice/MV_TRI_BASIC_DOWNLOAD/year/=/2018/fname/TRI_2019_US.csv/CSV',low_memory=False)"
   ]
  },
  {
   "cell_type": "code",
   "execution_count": 12,
   "id": "genuine-import",
   "metadata": {},
   "outputs": [],
   "source": [
    "df_TRI = df_TRI_2018[['6. CITY','8. ST','20. INDUSTRY SECTOR','34. CHEMICAL','42. CARCINOGEN','45. 5.1 - FUGITIVE AIR','46. 5.2 - STACK AIR','47. 5.3 - WATER','54. 5.5.2 - LAND TREATMENT','101. TOTAL RELEASES']]"
   ]
  },
  {
   "cell_type": "code",
   "execution_count": 13,
   "id": "impressed-thompson",
   "metadata": {},
   "outputs": [
    {
     "data": {
      "text/html": [
       "<div>\n",
       "<style scoped>\n",
       "    .dataframe tbody tr th:only-of-type {\n",
       "        vertical-align: middle;\n",
       "    }\n",
       "\n",
       "    .dataframe tbody tr th {\n",
       "        vertical-align: top;\n",
       "    }\n",
       "\n",
       "    .dataframe thead th {\n",
       "        text-align: right;\n",
       "    }\n",
       "</style>\n",
       "<table border=\"1\" class=\"dataframe\">\n",
       "  <thead>\n",
       "    <tr style=\"text-align: right;\">\n",
       "      <th></th>\n",
       "      <th>6. CITY</th>\n",
       "      <th>8. ST</th>\n",
       "      <th>20. INDUSTRY SECTOR</th>\n",
       "      <th>34. CHEMICAL</th>\n",
       "      <th>42. CARCINOGEN</th>\n",
       "      <th>45. 5.1 - FUGITIVE AIR</th>\n",
       "      <th>46. 5.2 - STACK AIR</th>\n",
       "      <th>47. 5.3 - WATER</th>\n",
       "      <th>54. 5.5.2 - LAND TREATMENT</th>\n",
       "      <th>101. TOTAL RELEASES</th>\n",
       "    </tr>\n",
       "  </thead>\n",
       "  <tbody>\n",
       "    <tr>\n",
       "      <th>0</th>\n",
       "      <td>NEENAH</td>\n",
       "      <td>WI</td>\n",
       "      <td>Food</td>\n",
       "      <td>Nitrate compounds (water dissociable; reportab...</td>\n",
       "      <td>NO</td>\n",
       "      <td>0.0</td>\n",
       "      <td>0.0</td>\n",
       "      <td>0.00</td>\n",
       "      <td>0.0</td>\n",
       "      <td>0.000</td>\n",
       "    </tr>\n",
       "    <tr>\n",
       "      <th>1</th>\n",
       "      <td>BRYAN</td>\n",
       "      <td>TX</td>\n",
       "      <td>Nonmetallic Mineral Product</td>\n",
       "      <td>Formic acid</td>\n",
       "      <td>NO</td>\n",
       "      <td>0.0</td>\n",
       "      <td>2692.0</td>\n",
       "      <td>0.00</td>\n",
       "      <td>0.0</td>\n",
       "      <td>2692.000</td>\n",
       "    </tr>\n",
       "    <tr>\n",
       "      <th>2</th>\n",
       "      <td>CHICAGO</td>\n",
       "      <td>IL</td>\n",
       "      <td>Fabricated Metals</td>\n",
       "      <td>Xylene (mixed isomers)</td>\n",
       "      <td>NO</td>\n",
       "      <td>219.0</td>\n",
       "      <td>1878.0</td>\n",
       "      <td>0.00</td>\n",
       "      <td>0.0</td>\n",
       "      <td>2097.000</td>\n",
       "    </tr>\n",
       "    <tr>\n",
       "      <th>3</th>\n",
       "      <td>HOUSTON</td>\n",
       "      <td>TX</td>\n",
       "      <td>Chemicals</td>\n",
       "      <td>Ammonia</td>\n",
       "      <td>NO</td>\n",
       "      <td>873.8</td>\n",
       "      <td>3154.0</td>\n",
       "      <td>887.46</td>\n",
       "      <td>0.0</td>\n",
       "      <td>4923.268</td>\n",
       "    </tr>\n",
       "    <tr>\n",
       "      <th>4</th>\n",
       "      <td>HOUSTON</td>\n",
       "      <td>TX</td>\n",
       "      <td>Chemicals</td>\n",
       "      <td>Chlorothalonil</td>\n",
       "      <td>YES</td>\n",
       "      <td>395.2</td>\n",
       "      <td>3393.4</td>\n",
       "      <td>9.02</td>\n",
       "      <td>0.0</td>\n",
       "      <td>145433.817</td>\n",
       "    </tr>\n",
       "    <tr>\n",
       "      <th>...</th>\n",
       "      <td>...</td>\n",
       "      <td>...</td>\n",
       "      <td>...</td>\n",
       "      <td>...</td>\n",
       "      <td>...</td>\n",
       "      <td>...</td>\n",
       "      <td>...</td>\n",
       "      <td>...</td>\n",
       "      <td>...</td>\n",
       "      <td>...</td>\n",
       "    </tr>\n",
       "    <tr>\n",
       "      <th>80358</th>\n",
       "      <td>PARIS</td>\n",
       "      <td>KY</td>\n",
       "      <td>Chemicals</td>\n",
       "      <td>Methyl isobutyl ketone</td>\n",
       "      <td>YES</td>\n",
       "      <td>0.0</td>\n",
       "      <td>0.0</td>\n",
       "      <td>0.00</td>\n",
       "      <td>0.0</td>\n",
       "      <td>0.000</td>\n",
       "    </tr>\n",
       "    <tr>\n",
       "      <th>80359</th>\n",
       "      <td>PARIS</td>\n",
       "      <td>KY</td>\n",
       "      <td>Chemicals</td>\n",
       "      <td>Lead compounds</td>\n",
       "      <td>NO</td>\n",
       "      <td>0.0</td>\n",
       "      <td>0.0</td>\n",
       "      <td>0.00</td>\n",
       "      <td>0.0</td>\n",
       "      <td>0.000</td>\n",
       "    </tr>\n",
       "    <tr>\n",
       "      <th>80360</th>\n",
       "      <td>TURNERS FALLS</td>\n",
       "      <td>MA</td>\n",
       "      <td>Fabricated Metals</td>\n",
       "      <td>Nickel</td>\n",
       "      <td>YES</td>\n",
       "      <td>0.0</td>\n",
       "      <td>0.0</td>\n",
       "      <td>0.00</td>\n",
       "      <td>0.0</td>\n",
       "      <td>0.000</td>\n",
       "    </tr>\n",
       "    <tr>\n",
       "      <th>80361</th>\n",
       "      <td>GALLATIN</td>\n",
       "      <td>TN</td>\n",
       "      <td>Electric Utilities</td>\n",
       "      <td>Zinc compounds</td>\n",
       "      <td>NO</td>\n",
       "      <td>3.0</td>\n",
       "      <td>970.0</td>\n",
       "      <td>270.00</td>\n",
       "      <td>0.0</td>\n",
       "      <td>35243.000</td>\n",
       "    </tr>\n",
       "    <tr>\n",
       "      <th>80362</th>\n",
       "      <td>GALLATIN</td>\n",
       "      <td>TN</td>\n",
       "      <td>Electric Utilities</td>\n",
       "      <td>Copper compounds</td>\n",
       "      <td>NO</td>\n",
       "      <td>2.0</td>\n",
       "      <td>140.0</td>\n",
       "      <td>2900.00</td>\n",
       "      <td>0.0</td>\n",
       "      <td>54143.000</td>\n",
       "    </tr>\n",
       "  </tbody>\n",
       "</table>\n",
       "<p>80363 rows × 10 columns</p>\n",
       "</div>"
      ],
      "text/plain": [
       "             6. CITY 8. ST          20. INDUSTRY SECTOR  \\\n",
       "0             NEENAH    WI                         Food   \n",
       "1              BRYAN    TX  Nonmetallic Mineral Product   \n",
       "2            CHICAGO    IL            Fabricated Metals   \n",
       "3            HOUSTON    TX                    Chemicals   \n",
       "4            HOUSTON    TX                    Chemicals   \n",
       "...              ...   ...                          ...   \n",
       "80358          PARIS    KY                    Chemicals   \n",
       "80359          PARIS    KY                    Chemicals   \n",
       "80360  TURNERS FALLS    MA            Fabricated Metals   \n",
       "80361       GALLATIN    TN           Electric Utilities   \n",
       "80362       GALLATIN    TN           Electric Utilities   \n",
       "\n",
       "                                            34. CHEMICAL 42. CARCINOGEN  \\\n",
       "0      Nitrate compounds (water dissociable; reportab...             NO   \n",
       "1                                            Formic acid             NO   \n",
       "2                                 Xylene (mixed isomers)             NO   \n",
       "3                                                Ammonia             NO   \n",
       "4                                         Chlorothalonil            YES   \n",
       "...                                                  ...            ...   \n",
       "80358                             Methyl isobutyl ketone            YES   \n",
       "80359                                     Lead compounds             NO   \n",
       "80360                                             Nickel            YES   \n",
       "80361                                     Zinc compounds             NO   \n",
       "80362                                   Copper compounds             NO   \n",
       "\n",
       "       45. 5.1 - FUGITIVE AIR  46. 5.2 - STACK AIR  47. 5.3 - WATER  \\\n",
       "0                         0.0                  0.0             0.00   \n",
       "1                         0.0               2692.0             0.00   \n",
       "2                       219.0               1878.0             0.00   \n",
       "3                       873.8               3154.0           887.46   \n",
       "4                       395.2               3393.4             9.02   \n",
       "...                       ...                  ...              ...   \n",
       "80358                     0.0                  0.0             0.00   \n",
       "80359                     0.0                  0.0             0.00   \n",
       "80360                     0.0                  0.0             0.00   \n",
       "80361                     3.0                970.0           270.00   \n",
       "80362                     2.0                140.0          2900.00   \n",
       "\n",
       "       54. 5.5.2 - LAND TREATMENT  101. TOTAL RELEASES  \n",
       "0                             0.0                0.000  \n",
       "1                             0.0             2692.000  \n",
       "2                             0.0             2097.000  \n",
       "3                             0.0             4923.268  \n",
       "4                             0.0           145433.817  \n",
       "...                           ...                  ...  \n",
       "80358                         0.0                0.000  \n",
       "80359                         0.0                0.000  \n",
       "80360                         0.0                0.000  \n",
       "80361                         0.0            35243.000  \n",
       "80362                         0.0            54143.000  \n",
       "\n",
       "[80363 rows x 10 columns]"
      ]
     },
     "execution_count": 13,
     "metadata": {},
     "output_type": "execute_result"
    }
   ],
   "source": [
    "df_TRI"
   ]
  },
  {
   "cell_type": "markdown",
   "id": "after-finish",
   "metadata": {},
   "source": [
    "Now we have the base datasets inmplemented, need to learn how to merge them\n",
    "\n",
    "Lets start withe the carcinogens cause thats the most straightforward:"
   ]
  },
  {
   "cell_type": "code",
   "execution_count": 14,
   "id": "elder-diamond",
   "metadata": {},
   "outputs": [],
   "source": [
    "df_carcinogen = df_TRI[df_TRI['42. CARCINOGEN']=='YES']\n",
    "# Now lets group by city and state:\n",
    "gb_carcinogen_by_loc = df_carcinogen.groupby(['8. ST','6. CITY'])[\"101. TOTAL RELEASES\"].sum()"
   ]
  },
  {
   "cell_type": "code",
   "execution_count": 15,
   "id": "under-secret",
   "metadata": {},
   "outputs": [
    {
     "name": "stdout",
     "output_type": "stream",
     "text": [
      "8. ST  6. CITY       \n",
      "AK     ANCHORAGE          1097.74000\n",
      "       BETHEL              441.98000\n",
      "       DELTA JUNCTION    36943.40000\n",
      "       DUTCH HARBOR       1637.70000\n",
      "       EIELSON AFB           0.13300\n",
      "                            ...     \n",
      "WY     ROCK SPRINGS      28523.24200\n",
      "       SHERIDAN              2.66000\n",
      "       SINCLAIR           8493.78750\n",
      "       WHEATLAND         53239.72769\n",
      "       WORLAND               1.00000\n",
      "Name: 101. TOTAL RELEASES, Length: 5004, dtype: float64\n"
     ]
    }
   ],
   "source": [
    "print(gb_carcinogen_by_loc)"
   ]
  },
  {
   "cell_type": "code",
   "execution_count": 16,
   "id": "biblical-entertainment",
   "metadata": {},
   "outputs": [
    {
     "data": {
      "text/html": [
       "<div>\n",
       "<style scoped>\n",
       "    .dataframe tbody tr th:only-of-type {\n",
       "        vertical-align: middle;\n",
       "    }\n",
       "\n",
       "    .dataframe tbody tr th {\n",
       "        vertical-align: top;\n",
       "    }\n",
       "\n",
       "    .dataframe thead th {\n",
       "        text-align: right;\n",
       "    }\n",
       "</style>\n",
       "<table border=\"1\" class=\"dataframe\">\n",
       "  <thead>\n",
       "    <tr style=\"text-align: right;\">\n",
       "      <th></th>\n",
       "      <th>8. ST</th>\n",
       "      <th>6. CITY</th>\n",
       "      <th>101. TOTAL RELEASES</th>\n",
       "    </tr>\n",
       "  </thead>\n",
       "  <tbody>\n",
       "    <tr>\n",
       "      <th>0</th>\n",
       "      <td>AK</td>\n",
       "      <td>ANCHORAGE</td>\n",
       "      <td>1097.74000</td>\n",
       "    </tr>\n",
       "    <tr>\n",
       "      <th>1</th>\n",
       "      <td>AK</td>\n",
       "      <td>BETHEL</td>\n",
       "      <td>441.98000</td>\n",
       "    </tr>\n",
       "    <tr>\n",
       "      <th>2</th>\n",
       "      <td>AK</td>\n",
       "      <td>DELTA JUNCTION</td>\n",
       "      <td>36943.40000</td>\n",
       "    </tr>\n",
       "    <tr>\n",
       "      <th>3</th>\n",
       "      <td>AK</td>\n",
       "      <td>DUTCH HARBOR</td>\n",
       "      <td>1637.70000</td>\n",
       "    </tr>\n",
       "    <tr>\n",
       "      <th>4</th>\n",
       "      <td>AK</td>\n",
       "      <td>EIELSON AFB</td>\n",
       "      <td>0.13300</td>\n",
       "    </tr>\n",
       "    <tr>\n",
       "      <th>...</th>\n",
       "      <td>...</td>\n",
       "      <td>...</td>\n",
       "      <td>...</td>\n",
       "    </tr>\n",
       "    <tr>\n",
       "      <th>4999</th>\n",
       "      <td>WY</td>\n",
       "      <td>ROCK SPRINGS</td>\n",
       "      <td>28523.24200</td>\n",
       "    </tr>\n",
       "    <tr>\n",
       "      <th>5000</th>\n",
       "      <td>WY</td>\n",
       "      <td>SHERIDAN</td>\n",
       "      <td>2.66000</td>\n",
       "    </tr>\n",
       "    <tr>\n",
       "      <th>5001</th>\n",
       "      <td>WY</td>\n",
       "      <td>SINCLAIR</td>\n",
       "      <td>8493.78750</td>\n",
       "    </tr>\n",
       "    <tr>\n",
       "      <th>5002</th>\n",
       "      <td>WY</td>\n",
       "      <td>WHEATLAND</td>\n",
       "      <td>53239.72769</td>\n",
       "    </tr>\n",
       "    <tr>\n",
       "      <th>5003</th>\n",
       "      <td>WY</td>\n",
       "      <td>WORLAND</td>\n",
       "      <td>1.00000</td>\n",
       "    </tr>\n",
       "  </tbody>\n",
       "</table>\n",
       "<p>5004 rows × 3 columns</p>\n",
       "</div>"
      ],
      "text/plain": [
       "     8. ST         6. CITY  101. TOTAL RELEASES\n",
       "0       AK       ANCHORAGE           1097.74000\n",
       "1       AK          BETHEL            441.98000\n",
       "2       AK  DELTA JUNCTION          36943.40000\n",
       "3       AK    DUTCH HARBOR           1637.70000\n",
       "4       AK     EIELSON AFB              0.13300\n",
       "...    ...             ...                  ...\n",
       "4999    WY    ROCK SPRINGS          28523.24200\n",
       "5000    WY        SHERIDAN              2.66000\n",
       "5001    WY        SINCLAIR           8493.78750\n",
       "5002    WY       WHEATLAND          53239.72769\n",
       "5003    WY         WORLAND              1.00000\n",
       "\n",
       "[5004 rows x 3 columns]"
      ]
     },
     "execution_count": 16,
     "metadata": {},
     "output_type": "execute_result"
    }
   ],
   "source": [
    "df_carcinogen_by_loc = gb_carcinogen_by_loc.reset_index()\n",
    "df_carcinogen_by_loc"
   ]
  },
  {
   "cell_type": "code",
   "execution_count": 17,
   "id": "dangerous-stationery",
   "metadata": {},
   "outputs": [
    {
     "data": {
      "text/html": [
       "<div>\n",
       "<style scoped>\n",
       "    .dataframe tbody tr th:only-of-type {\n",
       "        vertical-align: middle;\n",
       "    }\n",
       "\n",
       "    .dataframe tbody tr th {\n",
       "        vertical-align: top;\n",
       "    }\n",
       "\n",
       "    .dataframe thead th {\n",
       "        text-align: right;\n",
       "    }\n",
       "</style>\n",
       "<table border=\"1\" class=\"dataframe\">\n",
       "  <thead>\n",
       "    <tr style=\"text-align: right;\">\n",
       "      <th></th>\n",
       "      <th>StateAbbr</th>\n",
       "      <th>LocationName</th>\n",
       "      <th>Data_Value</th>\n",
       "      <th>Low_Confidence_Limit</th>\n",
       "      <th>High_Confidence_Limit</th>\n",
       "    </tr>\n",
       "  </thead>\n",
       "  <tbody>\n",
       "    <tr>\n",
       "      <th>1234</th>\n",
       "      <td>AL</td>\n",
       "      <td>Coaling</td>\n",
       "      <td>6.4</td>\n",
       "      <td>6.2</td>\n",
       "      <td>6.7</td>\n",
       "    </tr>\n",
       "    <tr>\n",
       "      <th>1301</th>\n",
       "      <td>AL</td>\n",
       "      <td>Cottonwood</td>\n",
       "      <td>6.6</td>\n",
       "      <td>6.3</td>\n",
       "      <td>6.9</td>\n",
       "    </tr>\n",
       "    <tr>\n",
       "      <th>1357</th>\n",
       "      <td>AL</td>\n",
       "      <td>Fayette</td>\n",
       "      <td>6.6</td>\n",
       "      <td>6.4</td>\n",
       "      <td>6.8</td>\n",
       "    </tr>\n",
       "    <tr>\n",
       "      <th>1375</th>\n",
       "      <td>AL</td>\n",
       "      <td>Guin</td>\n",
       "      <td>6.7</td>\n",
       "      <td>6.4</td>\n",
       "      <td>7.0</td>\n",
       "    </tr>\n",
       "    <tr>\n",
       "      <th>1389</th>\n",
       "      <td>AL</td>\n",
       "      <td>Dunnavant</td>\n",
       "      <td>6.7</td>\n",
       "      <td>6.4</td>\n",
       "      <td>7.0</td>\n",
       "    </tr>\n",
       "    <tr>\n",
       "      <th>...</th>\n",
       "      <td>...</td>\n",
       "      <td>...</td>\n",
       "      <td>...</td>\n",
       "      <td>...</td>\n",
       "      <td>...</td>\n",
       "    </tr>\n",
       "    <tr>\n",
       "      <th>1593099</th>\n",
       "      <td>WI</td>\n",
       "      <td>Zoar</td>\n",
       "      <td>5.3</td>\n",
       "      <td>5.0</td>\n",
       "      <td>5.7</td>\n",
       "    </tr>\n",
       "    <tr>\n",
       "      <th>1593106</th>\n",
       "      <td>WI</td>\n",
       "      <td>Westboro</td>\n",
       "      <td>6.5</td>\n",
       "      <td>6.1</td>\n",
       "      <td>6.8</td>\n",
       "    </tr>\n",
       "    <tr>\n",
       "      <th>1593114</th>\n",
       "      <td>WY</td>\n",
       "      <td>Guernsey</td>\n",
       "      <td>6.3</td>\n",
       "      <td>6.0</td>\n",
       "      <td>6.6</td>\n",
       "    </tr>\n",
       "    <tr>\n",
       "      <th>1593177</th>\n",
       "      <td>WI</td>\n",
       "      <td>Steuben</td>\n",
       "      <td>6.5</td>\n",
       "      <td>6.2</td>\n",
       "      <td>6.9</td>\n",
       "    </tr>\n",
       "    <tr>\n",
       "      <th>1593202</th>\n",
       "      <td>WY</td>\n",
       "      <td>Bairoil</td>\n",
       "      <td>5.4</td>\n",
       "      <td>5.1</td>\n",
       "      <td>5.6</td>\n",
       "    </tr>\n",
       "  </tbody>\n",
       "</table>\n",
       "<p>28484 rows × 5 columns</p>\n",
       "</div>"
      ],
      "text/plain": [
       "        StateAbbr LocationName  Data_Value  Low_Confidence_Limit  \\\n",
       "1234           AL      Coaling         6.4                   6.2   \n",
       "1301           AL   Cottonwood         6.6                   6.3   \n",
       "1357           AL      Fayette         6.6                   6.4   \n",
       "1375           AL         Guin         6.7                   6.4   \n",
       "1389           AL    Dunnavant         6.7                   6.4   \n",
       "...           ...          ...         ...                   ...   \n",
       "1593099        WI         Zoar         5.3                   5.0   \n",
       "1593106        WI     Westboro         6.5                   6.1   \n",
       "1593114        WY     Guernsey         6.3                   6.0   \n",
       "1593177        WI      Steuben         6.5                   6.2   \n",
       "1593202        WY      Bairoil         5.4                   5.1   \n",
       "\n",
       "         High_Confidence_Limit  \n",
       "1234                       6.7  \n",
       "1301                       6.9  \n",
       "1357                       6.8  \n",
       "1375                       7.0  \n",
       "1389                       7.0  \n",
       "...                        ...  \n",
       "1593099                    5.7  \n",
       "1593106                    6.8  \n",
       "1593114                    6.6  \n",
       "1593177                    6.9  \n",
       "1593202                    5.6  \n",
       "\n",
       "[28484 rows x 5 columns]"
      ]
     },
     "execution_count": 17,
     "metadata": {},
     "output_type": "execute_result"
    }
   ],
   "source": [
    "df_cancerData_important"
   ]
  },
  {
   "cell_type": "code",
   "execution_count": 18,
   "id": "superior-equity",
   "metadata": {},
   "outputs": [],
   "source": [
    "# We have way more PLACES data than TRI... 5,004 rows versus 28,484"
   ]
  },
  {
   "cell_type": "code",
   "execution_count": 19,
   "id": "expressed-pioneer",
   "metadata": {},
   "outputs": [
    {
     "data": {
      "text/html": [
       "<div>\n",
       "<style scoped>\n",
       "    .dataframe tbody tr th:only-of-type {\n",
       "        vertical-align: middle;\n",
       "    }\n",
       "\n",
       "    .dataframe tbody tr th {\n",
       "        vertical-align: top;\n",
       "    }\n",
       "\n",
       "    .dataframe thead th {\n",
       "        text-align: right;\n",
       "    }\n",
       "</style>\n",
       "<table border=\"1\" class=\"dataframe\">\n",
       "  <thead>\n",
       "    <tr style=\"text-align: right;\">\n",
       "      <th></th>\n",
       "      <th>StateAbbr</th>\n",
       "      <th>LocationName</th>\n",
       "      <th>Data_Value</th>\n",
       "      <th>Low_Confidence_Limit</th>\n",
       "      <th>High_Confidence_Limit</th>\n",
       "    </tr>\n",
       "  </thead>\n",
       "  <tbody>\n",
       "    <tr>\n",
       "      <th>33362</th>\n",
       "      <td>AK</td>\n",
       "      <td>Bethel</td>\n",
       "      <td>6.5</td>\n",
       "      <td>6.3</td>\n",
       "      <td>6.8</td>\n",
       "    </tr>\n",
       "    <tr>\n",
       "      <th>214493</th>\n",
       "      <td>CT</td>\n",
       "      <td>Bethel</td>\n",
       "      <td>6.6</td>\n",
       "      <td>6.4</td>\n",
       "      <td>6.8</td>\n",
       "    </tr>\n",
       "    <tr>\n",
       "      <th>215515</th>\n",
       "      <td>DE</td>\n",
       "      <td>Bethel</td>\n",
       "      <td>6.7</td>\n",
       "      <td>6.4</td>\n",
       "      <td>7.0</td>\n",
       "    </tr>\n",
       "    <tr>\n",
       "      <th>680012</th>\n",
       "      <td>MN</td>\n",
       "      <td>Bethel</td>\n",
       "      <td>6.3</td>\n",
       "      <td>6.0</td>\n",
       "      <td>6.7</td>\n",
       "    </tr>\n",
       "    <tr>\n",
       "      <th>742164</th>\n",
       "      <td>MO</td>\n",
       "      <td>Bethel</td>\n",
       "      <td>6.6</td>\n",
       "      <td>6.2</td>\n",
       "      <td>6.9</td>\n",
       "    </tr>\n",
       "    <tr>\n",
       "      <th>981601</th>\n",
       "      <td>NC</td>\n",
       "      <td>Bethel</td>\n",
       "      <td>6.2</td>\n",
       "      <td>5.9</td>\n",
       "      <td>6.4</td>\n",
       "    </tr>\n",
       "    <tr>\n",
       "      <th>1041641</th>\n",
       "      <td>OH</td>\n",
       "      <td>Bethel</td>\n",
       "      <td>6.5</td>\n",
       "      <td>6.2</td>\n",
       "      <td>6.9</td>\n",
       "    </tr>\n",
       "    <tr>\n",
       "      <th>1183259</th>\n",
       "      <td>PA</td>\n",
       "      <td>Bethel</td>\n",
       "      <td>6.4</td>\n",
       "      <td>6.1</td>\n",
       "      <td>6.7</td>\n",
       "    </tr>\n",
       "    <tr>\n",
       "      <th>1446463</th>\n",
       "      <td>VT</td>\n",
       "      <td>Bethel</td>\n",
       "      <td>6.6</td>\n",
       "      <td>6.3</td>\n",
       "      <td>7.0</td>\n",
       "    </tr>\n",
       "    <tr>\n",
       "      <th>1489868</th>\n",
       "      <td>WA</td>\n",
       "      <td>Bethel</td>\n",
       "      <td>6.6</td>\n",
       "      <td>6.3</td>\n",
       "      <td>6.8</td>\n",
       "    </tr>\n",
       "  </tbody>\n",
       "</table>\n",
       "</div>"
      ],
      "text/plain": [
       "        StateAbbr LocationName  Data_Value  Low_Confidence_Limit  \\\n",
       "33362          AK       Bethel         6.5                   6.3   \n",
       "214493         CT       Bethel         6.6                   6.4   \n",
       "215515         DE       Bethel         6.7                   6.4   \n",
       "680012         MN       Bethel         6.3                   6.0   \n",
       "742164         MO       Bethel         6.6                   6.2   \n",
       "981601         NC       Bethel         6.2                   5.9   \n",
       "1041641        OH       Bethel         6.5                   6.2   \n",
       "1183259        PA       Bethel         6.4                   6.1   \n",
       "1446463        VT       Bethel         6.6                   6.3   \n",
       "1489868        WA       Bethel         6.6                   6.3   \n",
       "\n",
       "         High_Confidence_Limit  \n",
       "33362                      6.8  \n",
       "214493                     6.8  \n",
       "215515                     7.0  \n",
       "680012                     6.7  \n",
       "742164                     6.9  \n",
       "981601                     6.4  \n",
       "1041641                    6.9  \n",
       "1183259                    6.7  \n",
       "1446463                    7.0  \n",
       "1489868                    6.8  "
      ]
     },
     "execution_count": 19,
     "metadata": {},
     "output_type": "execute_result"
    }
   ],
   "source": [
    "df_cancerData_important[df_cancerData_important['LocationName']=='Bethel']"
   ]
  },
  {
   "cell_type": "code",
   "execution_count": 20,
   "id": "acquired-marijuana",
   "metadata": {},
   "outputs": [
    {
     "data": {
      "text/html": [
       "<div>\n",
       "<style scoped>\n",
       "    .dataframe tbody tr th:only-of-type {\n",
       "        vertical-align: middle;\n",
       "    }\n",
       "\n",
       "    .dataframe tbody tr th {\n",
       "        vertical-align: top;\n",
       "    }\n",
       "\n",
       "    .dataframe thead th {\n",
       "        text-align: right;\n",
       "    }\n",
       "</style>\n",
       "<table border=\"1\" class=\"dataframe\">\n",
       "  <thead>\n",
       "    <tr style=\"text-align: right;\">\n",
       "      <th></th>\n",
       "      <th>8. ST</th>\n",
       "      <th>6. CITY</th>\n",
       "      <th>101. TOTAL RELEASES</th>\n",
       "    </tr>\n",
       "  </thead>\n",
       "  <tbody>\n",
       "    <tr>\n",
       "      <th>1</th>\n",
       "      <td>AK</td>\n",
       "      <td>BETHEL</td>\n",
       "      <td>441.980</td>\n",
       "    </tr>\n",
       "    <tr>\n",
       "      <th>533</th>\n",
       "      <td>CT</td>\n",
       "      <td>BETHEL</td>\n",
       "      <td>39.136</td>\n",
       "    </tr>\n",
       "  </tbody>\n",
       "</table>\n",
       "</div>"
      ],
      "text/plain": [
       "    8. ST 6. CITY  101. TOTAL RELEASES\n",
       "1      AK  BETHEL              441.980\n",
       "533    CT  BETHEL               39.136"
      ]
     },
     "execution_count": 20,
     "metadata": {},
     "output_type": "execute_result"
    }
   ],
   "source": [
    "df_carcinogen_by_loc[df_carcinogen_by_loc['6. CITY']=='BETHEL']"
   ]
  },
  {
   "cell_type": "markdown",
   "id": "interracial-exclusion",
   "metadata": {},
   "source": [
    "Looks like to join ill have to correct the location names to be lowercase for both to standardize:"
   ]
  },
  {
   "cell_type": "code",
   "execution_count": 21,
   "id": "dated-intermediate",
   "metadata": {},
   "outputs": [],
   "source": [
    "df_carcinogen_by_loc['6. CITY'] = df_carcinogen_by_loc['6. CITY'].str.lower()"
   ]
  },
  {
   "cell_type": "code",
   "execution_count": 22,
   "id": "brief-gossip",
   "metadata": {},
   "outputs": [
    {
     "name": "stderr",
     "output_type": "stream",
     "text": [
      "c:\\users\\matth\\desktop\\cisc367\\cisc367_dir\\venv\\lib\\site-packages\\ipykernel_launcher.py:1: SettingWithCopyWarning: \n",
      "A value is trying to be set on a copy of a slice from a DataFrame.\n",
      "Try using .loc[row_indexer,col_indexer] = value instead\n",
      "\n",
      "See the caveats in the documentation: https://pandas.pydata.org/pandas-docs/stable/user_guide/indexing.html#returning-a-view-versus-a-copy\n",
      "  \"\"\"Entry point for launching an IPython kernel.\n"
     ]
    }
   ],
   "source": [
    "df_cancerData_important['LocationName']= df_cancerData_important['LocationName'].str.lower()"
   ]
  },
  {
   "cell_type": "code",
   "execution_count": 23,
   "id": "automated-payment",
   "metadata": {},
   "outputs": [
    {
     "data": {
      "text/plain": [
       "1234          coaling\n",
       "1301       cottonwood\n",
       "1357          fayette\n",
       "1375             guin\n",
       "1389        dunnavant\n",
       "              ...    \n",
       "1593099          zoar\n",
       "1593106      westboro\n",
       "1593114      guernsey\n",
       "1593177       steuben\n",
       "1593202       bairoil\n",
       "Name: LocationName, Length: 28484, dtype: object"
      ]
     },
     "execution_count": 23,
     "metadata": {},
     "output_type": "execute_result"
    }
   ],
   "source": [
    "df_cancerData_important['LocationName'].str.lower()"
   ]
  },
  {
   "cell_type": "code",
   "execution_count": 24,
   "id": "regular-wagner",
   "metadata": {},
   "outputs": [],
   "source": [
    "combined_cancer = pd.merge(df_cancerData_important, df_carcinogen_by_loc, left_on=['StateAbbr','LocationName'],right_on=['8. ST','6. CITY'], how='right')"
   ]
  },
  {
   "cell_type": "code",
   "execution_count": 25,
   "id": "varying-salem",
   "metadata": {},
   "outputs": [],
   "source": [
    "# may want to join by the left and add colums without carcinegon release to the \"control\" dataset"
   ]
  },
  {
   "cell_type": "code",
   "execution_count": 26,
   "id": "selected-edwards",
   "metadata": {},
   "outputs": [
    {
     "data": {
      "text/html": [
       "<div>\n",
       "<style scoped>\n",
       "    .dataframe tbody tr th:only-of-type {\n",
       "        vertical-align: middle;\n",
       "    }\n",
       "\n",
       "    .dataframe tbody tr th {\n",
       "        vertical-align: top;\n",
       "    }\n",
       "\n",
       "    .dataframe thead th {\n",
       "        text-align: right;\n",
       "    }\n",
       "</style>\n",
       "<table border=\"1\" class=\"dataframe\">\n",
       "  <thead>\n",
       "    <tr style=\"text-align: right;\">\n",
       "      <th></th>\n",
       "      <th>StateAbbr</th>\n",
       "      <th>LocationName</th>\n",
       "      <th>Data_Value</th>\n",
       "      <th>Low_Confidence_Limit</th>\n",
       "      <th>High_Confidence_Limit</th>\n",
       "      <th>8. ST</th>\n",
       "      <th>6. CITY</th>\n",
       "      <th>101. TOTAL RELEASES</th>\n",
       "    </tr>\n",
       "  </thead>\n",
       "  <tbody>\n",
       "    <tr>\n",
       "      <th>0</th>\n",
       "      <td>AK</td>\n",
       "      <td>anchorage</td>\n",
       "      <td>6.3</td>\n",
       "      <td>6.2</td>\n",
       "      <td>6.3</td>\n",
       "      <td>AK</td>\n",
       "      <td>anchorage</td>\n",
       "      <td>1097.74000</td>\n",
       "    </tr>\n",
       "    <tr>\n",
       "      <th>1</th>\n",
       "      <td>AK</td>\n",
       "      <td>bethel</td>\n",
       "      <td>6.5</td>\n",
       "      <td>6.3</td>\n",
       "      <td>6.8</td>\n",
       "      <td>AK</td>\n",
       "      <td>bethel</td>\n",
       "      <td>441.98000</td>\n",
       "    </tr>\n",
       "    <tr>\n",
       "      <th>2</th>\n",
       "      <td>AK</td>\n",
       "      <td>delta junction</td>\n",
       "      <td>6.5</td>\n",
       "      <td>6.2</td>\n",
       "      <td>6.8</td>\n",
       "      <td>AK</td>\n",
       "      <td>delta junction</td>\n",
       "      <td>36943.40000</td>\n",
       "    </tr>\n",
       "    <tr>\n",
       "      <th>3</th>\n",
       "      <td>NaN</td>\n",
       "      <td>NaN</td>\n",
       "      <td>NaN</td>\n",
       "      <td>NaN</td>\n",
       "      <td>NaN</td>\n",
       "      <td>AK</td>\n",
       "      <td>dutch harbor</td>\n",
       "      <td>1637.70000</td>\n",
       "    </tr>\n",
       "    <tr>\n",
       "      <th>4</th>\n",
       "      <td>AK</td>\n",
       "      <td>eielson afb</td>\n",
       "      <td>4.7</td>\n",
       "      <td>4.4</td>\n",
       "      <td>5.0</td>\n",
       "      <td>AK</td>\n",
       "      <td>eielson afb</td>\n",
       "      <td>0.13300</td>\n",
       "    </tr>\n",
       "    <tr>\n",
       "      <th>...</th>\n",
       "      <td>...</td>\n",
       "      <td>...</td>\n",
       "      <td>...</td>\n",
       "      <td>...</td>\n",
       "      <td>...</td>\n",
       "      <td>...</td>\n",
       "      <td>...</td>\n",
       "      <td>...</td>\n",
       "    </tr>\n",
       "    <tr>\n",
       "      <th>5014</th>\n",
       "      <td>WY</td>\n",
       "      <td>rock springs</td>\n",
       "      <td>6.5</td>\n",
       "      <td>6.3</td>\n",
       "      <td>6.6</td>\n",
       "      <td>WY</td>\n",
       "      <td>rock springs</td>\n",
       "      <td>28523.24200</td>\n",
       "    </tr>\n",
       "    <tr>\n",
       "      <th>5015</th>\n",
       "      <td>WY</td>\n",
       "      <td>sheridan</td>\n",
       "      <td>6.4</td>\n",
       "      <td>6.3</td>\n",
       "      <td>6.6</td>\n",
       "      <td>WY</td>\n",
       "      <td>sheridan</td>\n",
       "      <td>2.66000</td>\n",
       "    </tr>\n",
       "    <tr>\n",
       "      <th>5016</th>\n",
       "      <td>WY</td>\n",
       "      <td>sinclair</td>\n",
       "      <td>6.4</td>\n",
       "      <td>6.1</td>\n",
       "      <td>6.7</td>\n",
       "      <td>WY</td>\n",
       "      <td>sinclair</td>\n",
       "      <td>8493.78750</td>\n",
       "    </tr>\n",
       "    <tr>\n",
       "      <th>5017</th>\n",
       "      <td>WY</td>\n",
       "      <td>wheatland</td>\n",
       "      <td>6.5</td>\n",
       "      <td>6.2</td>\n",
       "      <td>6.8</td>\n",
       "      <td>WY</td>\n",
       "      <td>wheatland</td>\n",
       "      <td>53239.72769</td>\n",
       "    </tr>\n",
       "    <tr>\n",
       "      <th>5018</th>\n",
       "      <td>WY</td>\n",
       "      <td>worland</td>\n",
       "      <td>6.4</td>\n",
       "      <td>6.2</td>\n",
       "      <td>6.6</td>\n",
       "      <td>WY</td>\n",
       "      <td>worland</td>\n",
       "      <td>1.00000</td>\n",
       "    </tr>\n",
       "  </tbody>\n",
       "</table>\n",
       "<p>5019 rows × 8 columns</p>\n",
       "</div>"
      ],
      "text/plain": [
       "     StateAbbr    LocationName  Data_Value  Low_Confidence_Limit  \\\n",
       "0           AK       anchorage         6.3                   6.2   \n",
       "1           AK          bethel         6.5                   6.3   \n",
       "2           AK  delta junction         6.5                   6.2   \n",
       "3          NaN             NaN         NaN                   NaN   \n",
       "4           AK     eielson afb         4.7                   4.4   \n",
       "...        ...             ...         ...                   ...   \n",
       "5014        WY    rock springs         6.5                   6.3   \n",
       "5015        WY        sheridan         6.4                   6.3   \n",
       "5016        WY        sinclair         6.4                   6.1   \n",
       "5017        WY       wheatland         6.5                   6.2   \n",
       "5018        WY         worland         6.4                   6.2   \n",
       "\n",
       "      High_Confidence_Limit 8. ST         6. CITY  101. TOTAL RELEASES  \n",
       "0                       6.3    AK       anchorage           1097.74000  \n",
       "1                       6.8    AK          bethel            441.98000  \n",
       "2                       6.8    AK  delta junction          36943.40000  \n",
       "3                       NaN    AK    dutch harbor           1637.70000  \n",
       "4                       5.0    AK     eielson afb              0.13300  \n",
       "...                     ...   ...             ...                  ...  \n",
       "5014                    6.6    WY    rock springs          28523.24200  \n",
       "5015                    6.6    WY        sheridan              2.66000  \n",
       "5016                    6.7    WY        sinclair           8493.78750  \n",
       "5017                    6.8    WY       wheatland          53239.72769  \n",
       "5018                    6.6    WY         worland              1.00000  \n",
       "\n",
       "[5019 rows x 8 columns]"
      ]
     },
     "execution_count": 26,
     "metadata": {},
     "output_type": "execute_result"
    }
   ],
   "source": [
    "combined_cancer"
   ]
  },
  {
   "cell_type": "code",
   "execution_count": 27,
   "id": "rough-opportunity",
   "metadata": {},
   "outputs": [],
   "source": [
    "combined_cancer = combined_cancer.dropna()\n",
    "combined_cancer = combined_cancer.drop(columns=['8. ST','6. CITY'],index=1)"
   ]
  },
  {
   "cell_type": "code",
   "execution_count": 28,
   "id": "great-verse",
   "metadata": {},
   "outputs": [],
   "source": [
    "newLabels = [\"State\",\"City\",\"Age-adjusted cancer rate (%)\", \"Lower CI for cancer rate\",\"Upper CI for cancer rate\",\"Total carcinegon release (lb)\"]"
   ]
  },
  {
   "cell_type": "code",
   "execution_count": 29,
   "id": "phantom-enough",
   "metadata": {},
   "outputs": [
    {
     "data": {
      "text/html": [
       "<div>\n",
       "<style scoped>\n",
       "    .dataframe tbody tr th:only-of-type {\n",
       "        vertical-align: middle;\n",
       "    }\n",
       "\n",
       "    .dataframe tbody tr th {\n",
       "        vertical-align: top;\n",
       "    }\n",
       "\n",
       "    .dataframe thead th {\n",
       "        text-align: right;\n",
       "    }\n",
       "</style>\n",
       "<table border=\"1\" class=\"dataframe\">\n",
       "  <thead>\n",
       "    <tr style=\"text-align: right;\">\n",
       "      <th></th>\n",
       "      <th>State</th>\n",
       "      <th>City</th>\n",
       "      <th>Age-adjusted cancer rate (%)</th>\n",
       "      <th>Lower CI for cancer rate</th>\n",
       "      <th>Upper CI for cancer rate</th>\n",
       "      <th>Total carcinegon release (lb)</th>\n",
       "    </tr>\n",
       "  </thead>\n",
       "  <tbody>\n",
       "    <tr>\n",
       "      <th>0</th>\n",
       "      <td>AK</td>\n",
       "      <td>anchorage</td>\n",
       "      <td>6.3</td>\n",
       "      <td>6.2</td>\n",
       "      <td>6.3</td>\n",
       "      <td>1097.74000</td>\n",
       "    </tr>\n",
       "    <tr>\n",
       "      <th>2</th>\n",
       "      <td>AK</td>\n",
       "      <td>delta junction</td>\n",
       "      <td>6.5</td>\n",
       "      <td>6.2</td>\n",
       "      <td>6.8</td>\n",
       "      <td>36943.40000</td>\n",
       "    </tr>\n",
       "    <tr>\n",
       "      <th>4</th>\n",
       "      <td>AK</td>\n",
       "      <td>eielson afb</td>\n",
       "      <td>4.7</td>\n",
       "      <td>4.4</td>\n",
       "      <td>5.0</td>\n",
       "      <td>0.13300</td>\n",
       "    </tr>\n",
       "    <tr>\n",
       "      <th>5</th>\n",
       "      <td>AK</td>\n",
       "      <td>fairbanks</td>\n",
       "      <td>6.2</td>\n",
       "      <td>6.1</td>\n",
       "      <td>6.3</td>\n",
       "      <td>183054.10890</td>\n",
       "    </tr>\n",
       "    <tr>\n",
       "      <th>6</th>\n",
       "      <td>AK</td>\n",
       "      <td>fort greely</td>\n",
       "      <td>5.5</td>\n",
       "      <td>5.2</td>\n",
       "      <td>5.8</td>\n",
       "      <td>0.00000</td>\n",
       "    </tr>\n",
       "    <tr>\n",
       "      <th>...</th>\n",
       "      <td>...</td>\n",
       "      <td>...</td>\n",
       "      <td>...</td>\n",
       "      <td>...</td>\n",
       "      <td>...</td>\n",
       "      <td>...</td>\n",
       "    </tr>\n",
       "    <tr>\n",
       "      <th>5014</th>\n",
       "      <td>WY</td>\n",
       "      <td>rock springs</td>\n",
       "      <td>6.5</td>\n",
       "      <td>6.3</td>\n",
       "      <td>6.6</td>\n",
       "      <td>28523.24200</td>\n",
       "    </tr>\n",
       "    <tr>\n",
       "      <th>5015</th>\n",
       "      <td>WY</td>\n",
       "      <td>sheridan</td>\n",
       "      <td>6.4</td>\n",
       "      <td>6.3</td>\n",
       "      <td>6.6</td>\n",
       "      <td>2.66000</td>\n",
       "    </tr>\n",
       "    <tr>\n",
       "      <th>5016</th>\n",
       "      <td>WY</td>\n",
       "      <td>sinclair</td>\n",
       "      <td>6.4</td>\n",
       "      <td>6.1</td>\n",
       "      <td>6.7</td>\n",
       "      <td>8493.78750</td>\n",
       "    </tr>\n",
       "    <tr>\n",
       "      <th>5017</th>\n",
       "      <td>WY</td>\n",
       "      <td>wheatland</td>\n",
       "      <td>6.5</td>\n",
       "      <td>6.2</td>\n",
       "      <td>6.8</td>\n",
       "      <td>53239.72769</td>\n",
       "    </tr>\n",
       "    <tr>\n",
       "      <th>5018</th>\n",
       "      <td>WY</td>\n",
       "      <td>worland</td>\n",
       "      <td>6.4</td>\n",
       "      <td>6.2</td>\n",
       "      <td>6.6</td>\n",
       "      <td>1.00000</td>\n",
       "    </tr>\n",
       "  </tbody>\n",
       "</table>\n",
       "<p>4375 rows × 6 columns</p>\n",
       "</div>"
      ],
      "text/plain": [
       "     State            City  Age-adjusted cancer rate (%)  \\\n",
       "0       AK       anchorage                           6.3   \n",
       "2       AK  delta junction                           6.5   \n",
       "4       AK     eielson afb                           4.7   \n",
       "5       AK       fairbanks                           6.2   \n",
       "6       AK     fort greely                           5.5   \n",
       "...    ...             ...                           ...   \n",
       "5014    WY    rock springs                           6.5   \n",
       "5015    WY        sheridan                           6.4   \n",
       "5016    WY        sinclair                           6.4   \n",
       "5017    WY       wheatland                           6.5   \n",
       "5018    WY         worland                           6.4   \n",
       "\n",
       "      Lower CI for cancer rate  Upper CI for cancer rate  \\\n",
       "0                          6.2                       6.3   \n",
       "2                          6.2                       6.8   \n",
       "4                          4.4                       5.0   \n",
       "5                          6.1                       6.3   \n",
       "6                          5.2                       5.8   \n",
       "...                        ...                       ...   \n",
       "5014                       6.3                       6.6   \n",
       "5015                       6.3                       6.6   \n",
       "5016                       6.1                       6.7   \n",
       "5017                       6.2                       6.8   \n",
       "5018                       6.2                       6.6   \n",
       "\n",
       "      Total carcinegon release (lb)  \n",
       "0                        1097.74000  \n",
       "2                       36943.40000  \n",
       "4                           0.13300  \n",
       "5                      183054.10890  \n",
       "6                           0.00000  \n",
       "...                             ...  \n",
       "5014                    28523.24200  \n",
       "5015                        2.66000  \n",
       "5016                     8493.78750  \n",
       "5017                    53239.72769  \n",
       "5018                        1.00000  \n",
       "\n",
       "[4375 rows x 6 columns]"
      ]
     },
     "execution_count": 29,
     "metadata": {},
     "output_type": "execute_result"
    }
   ],
   "source": [
    "combined_cancer.columns = newLabels\n",
    "combined_cancer"
   ]
  },
  {
   "cell_type": "markdown",
   "id": "white-ottawa",
   "metadata": {},
   "source": [
    "#### Now lets look for some corerlations:\n",
    "\n",
    "First lets plot carcinegon release over age-adjusted rancer rate:"
   ]
  },
  {
   "cell_type": "code",
   "execution_count": 30,
   "id": "first-river",
   "metadata": {},
   "outputs": [
    {
     "data": {
      "text/plain": [
       "(0.1, 10000000.0)"
      ]
     },
     "execution_count": 30,
     "metadata": {},
     "output_type": "execute_result"
    },
    {
     "data": {
      "image/png": "[encoded data removed]",
      "text/plain": [
       "<Figure size 432x288 with 1 Axes>"
      ]
     },
     "metadata": {
      "needs_background": "light"
     },
     "output_type": "display_data"
    }
   ],
   "source": [
    "sb.scatterplot(y='Age-adjusted cancer rate (%)',x='Total carcinegon release (lb)', data=combined_cancer)\n",
    "plt.xlim(0.1,10000000)"
   ]
  },
  {
   "cell_type": "markdown",
   "id": "stock-champion",
   "metadata": {},
   "source": [
    "Note a strong correlation off the bat, may have issues with axes sizing though"
   ]
  },
  {
   "cell_type": "code",
   "execution_count": 31,
   "id": "arbitrary-entity",
   "metadata": {},
   "outputs": [
    {
     "data": {
      "text/plain": [
       "(0.1, 100000000)"
      ]
     },
     "execution_count": 31,
     "metadata": {},
     "output_type": "execute_result"
    },
    {
     "data": {
      "image/png": "[encoded data removed]",
      "text/plain": [
       "<Figure size 432x288 with 1 Axes>"
      ]
     },
     "metadata": {
      "needs_background": "light"
     },
     "output_type": "display_data"
    }
   ],
   "source": [
    "combined_cancer.plot.scatter(y='Age-adjusted cancer rate (%)',x='Total carcinegon release (lb)')\n",
    "plt.xscale('log')\n",
    "plt.xlim(0.1,100000000)"
   ]
  },
  {
   "cell_type": "markdown",
   "id": "flexible-carroll",
   "metadata": {},
   "source": [
    "Cancer rates do seem to be about the same regardless of emissions. What does a statistical test say?"
   ]
  },
  {
   "cell_type": "code",
   "execution_count": 32,
   "id": "covered-cloud",
   "metadata": {},
   "outputs": [
    {
     "name": "stdout",
     "output_type": "stream",
     "text": [
      "The Pearson correlation coefficient is:  -0.036198572365647615 and is not statistically significant with a p of  0.016647082339698246\n"
     ]
    }
   ],
   "source": [
    "[r, p] = stats.pearsonr(combined_cancer['Total carcinegon release (lb)'],combined_cancer['Age-adjusted cancer rate (%)'])\n",
    "print(\"The Pearson correlation coefficient is: \", r, \"and is not statistically significant with a p of \", p)"
   ]
  },
  {
   "cell_type": "markdown",
   "id": "paperback-texture",
   "metadata": {},
   "source": [
    "Not that this is necissarilly wrong, but did I drope cities without emissions? As that seems wrong:"
   ]
  },
  {
   "cell_type": "code",
   "execution_count": 33,
   "id": "affiliated-pleasure",
   "metadata": {},
   "outputs": [
    {
     "data": {
      "text/html": [
       "<div>\n",
       "<style scoped>\n",
       "    .dataframe tbody tr th:only-of-type {\n",
       "        vertical-align: middle;\n",
       "    }\n",
       "\n",
       "    .dataframe tbody tr th {\n",
       "        vertical-align: top;\n",
       "    }\n",
       "\n",
       "    .dataframe thead th {\n",
       "        text-align: right;\n",
       "    }\n",
       "</style>\n",
       "<table border=\"1\" class=\"dataframe\">\n",
       "  <thead>\n",
       "    <tr style=\"text-align: right;\">\n",
       "      <th></th>\n",
       "      <th>State</th>\n",
       "      <th>City</th>\n",
       "      <th>Age-adjusted cancer rate (%)</th>\n",
       "      <th>Lower CI for cancer rate</th>\n",
       "      <th>Upper CI for cancer rate</th>\n",
       "      <th>Total carcinegon release (lb)</th>\n",
       "    </tr>\n",
       "  </thead>\n",
       "  <tbody>\n",
       "    <tr>\n",
       "      <th>0</th>\n",
       "      <td>AL</td>\n",
       "      <td>coaling</td>\n",
       "      <td>6.4</td>\n",
       "      <td>6.2</td>\n",
       "      <td>6.7</td>\n",
       "      <td>NaN</td>\n",
       "    </tr>\n",
       "    <tr>\n",
       "      <th>2</th>\n",
       "      <td>AL</td>\n",
       "      <td>fayette</td>\n",
       "      <td>6.6</td>\n",
       "      <td>6.4</td>\n",
       "      <td>6.8</td>\n",
       "      <td>18.27</td>\n",
       "    </tr>\n",
       "    <tr>\n",
       "      <th>3</th>\n",
       "      <td>AL</td>\n",
       "      <td>guin</td>\n",
       "      <td>6.7</td>\n",
       "      <td>6.4</td>\n",
       "      <td>7.0</td>\n",
       "      <td>2114.00</td>\n",
       "    </tr>\n",
       "    <tr>\n",
       "      <th>4</th>\n",
       "      <td>AL</td>\n",
       "      <td>dunnavant</td>\n",
       "      <td>6.7</td>\n",
       "      <td>6.4</td>\n",
       "      <td>7.0</td>\n",
       "      <td>NaN</td>\n",
       "    </tr>\n",
       "    <tr>\n",
       "      <th>5</th>\n",
       "      <td>AL</td>\n",
       "      <td>hartselle</td>\n",
       "      <td>6.7</td>\n",
       "      <td>6.5</td>\n",
       "      <td>6.8</td>\n",
       "      <td>NaN</td>\n",
       "    </tr>\n",
       "    <tr>\n",
       "      <th>...</th>\n",
       "      <td>...</td>\n",
       "      <td>...</td>\n",
       "      <td>...</td>\n",
       "      <td>...</td>\n",
       "      <td>...</td>\n",
       "      <td>...</td>\n",
       "    </tr>\n",
       "    <tr>\n",
       "      <th>28479</th>\n",
       "      <td>WI</td>\n",
       "      <td>zoar</td>\n",
       "      <td>5.3</td>\n",
       "      <td>5.0</td>\n",
       "      <td>5.7</td>\n",
       "      <td>NaN</td>\n",
       "    </tr>\n",
       "    <tr>\n",
       "      <th>28480</th>\n",
       "      <td>WI</td>\n",
       "      <td>westboro</td>\n",
       "      <td>6.5</td>\n",
       "      <td>6.1</td>\n",
       "      <td>6.8</td>\n",
       "      <td>NaN</td>\n",
       "    </tr>\n",
       "    <tr>\n",
       "      <th>28481</th>\n",
       "      <td>WY</td>\n",
       "      <td>guernsey</td>\n",
       "      <td>6.3</td>\n",
       "      <td>6.0</td>\n",
       "      <td>6.6</td>\n",
       "      <td>21943.00</td>\n",
       "    </tr>\n",
       "    <tr>\n",
       "      <th>28482</th>\n",
       "      <td>WI</td>\n",
       "      <td>steuben</td>\n",
       "      <td>6.5</td>\n",
       "      <td>6.2</td>\n",
       "      <td>6.9</td>\n",
       "      <td>NaN</td>\n",
       "    </tr>\n",
       "    <tr>\n",
       "      <th>28483</th>\n",
       "      <td>WY</td>\n",
       "      <td>bairoil</td>\n",
       "      <td>5.4</td>\n",
       "      <td>5.1</td>\n",
       "      <td>5.6</td>\n",
       "      <td>NaN</td>\n",
       "    </tr>\n",
       "  </tbody>\n",
       "</table>\n",
       "<p>28483 rows × 6 columns</p>\n",
       "</div>"
      ],
      "text/plain": [
       "      State       City  Age-adjusted cancer rate (%)  \\\n",
       "0        AL    coaling                           6.4   \n",
       "2        AL    fayette                           6.6   \n",
       "3        AL       guin                           6.7   \n",
       "4        AL  dunnavant                           6.7   \n",
       "5        AL  hartselle                           6.7   \n",
       "...     ...        ...                           ...   \n",
       "28479    WI       zoar                           5.3   \n",
       "28480    WI   westboro                           6.5   \n",
       "28481    WY   guernsey                           6.3   \n",
       "28482    WI    steuben                           6.5   \n",
       "28483    WY    bairoil                           5.4   \n",
       "\n",
       "       Lower CI for cancer rate  Upper CI for cancer rate  \\\n",
       "0                           6.2                       6.7   \n",
       "2                           6.4                       6.8   \n",
       "3                           6.4                       7.0   \n",
       "4                           6.4                       7.0   \n",
       "5                           6.5                       6.8   \n",
       "...                         ...                       ...   \n",
       "28479                       5.0                       5.7   \n",
       "28480                       6.1                       6.8   \n",
       "28481                       6.0                       6.6   \n",
       "28482                       6.2                       6.9   \n",
       "28483                       5.1                       5.6   \n",
       "\n",
       "       Total carcinegon release (lb)  \n",
       "0                                NaN  \n",
       "2                              18.27  \n",
       "3                            2114.00  \n",
       "4                                NaN  \n",
       "5                                NaN  \n",
       "...                              ...  \n",
       "28479                            NaN  \n",
       "28480                            NaN  \n",
       "28481                       21943.00  \n",
       "28482                            NaN  \n",
       "28483                            NaN  \n",
       "\n",
       "[28483 rows x 6 columns]"
      ]
     },
     "execution_count": 33,
     "metadata": {},
     "output_type": "execute_result"
    }
   ],
   "source": [
    "combined_cancer = pd.merge(df_cancerData_important, df_carcinogen_by_loc, left_on=['StateAbbr','LocationName'],right_on=['8. ST','6. CITY'], how='left')\n",
    "combined_cancer = combined_cancer.drop(columns=['8. ST','6. CITY'],index=1)\n",
    "newLabels = [\"State\",\"City\",\"Age-adjusted cancer rate (%)\", \"Lower CI for cancer rate\",\"Upper CI for cancer rate\",\"Total carcinegon release (lb)\"]\n",
    "combined_cancer.columns = newLabels\n",
    "\n",
    "combined_cancer"
   ]
  },
  {
   "cell_type": "code",
   "execution_count": 34,
   "id": "headed-judges",
   "metadata": {},
   "outputs": [
    {
     "data": {
      "text/html": [
       "<div>\n",
       "<style scoped>\n",
       "    .dataframe tbody tr th:only-of-type {\n",
       "        vertical-align: middle;\n",
       "    }\n",
       "\n",
       "    .dataframe tbody tr th {\n",
       "        vertical-align: top;\n",
       "    }\n",
       "\n",
       "    .dataframe thead th {\n",
       "        text-align: right;\n",
       "    }\n",
       "</style>\n",
       "<table border=\"1\" class=\"dataframe\">\n",
       "  <thead>\n",
       "    <tr style=\"text-align: right;\">\n",
       "      <th></th>\n",
       "      <th>State</th>\n",
       "      <th>City</th>\n",
       "      <th>Age-adjusted cancer rate (%)</th>\n",
       "      <th>Lower CI for cancer rate</th>\n",
       "      <th>Upper CI for cancer rate</th>\n",
       "      <th>Total carcinegon release (lb)</th>\n",
       "    </tr>\n",
       "  </thead>\n",
       "  <tbody>\n",
       "    <tr>\n",
       "      <th>0</th>\n",
       "      <td>AL</td>\n",
       "      <td>coaling</td>\n",
       "      <td>6.4</td>\n",
       "      <td>6.2</td>\n",
       "      <td>6.7</td>\n",
       "      <td>0.00</td>\n",
       "    </tr>\n",
       "    <tr>\n",
       "      <th>2</th>\n",
       "      <td>AL</td>\n",
       "      <td>fayette</td>\n",
       "      <td>6.6</td>\n",
       "      <td>6.4</td>\n",
       "      <td>6.8</td>\n",
       "      <td>18.27</td>\n",
       "    </tr>\n",
       "    <tr>\n",
       "      <th>3</th>\n",
       "      <td>AL</td>\n",
       "      <td>guin</td>\n",
       "      <td>6.7</td>\n",
       "      <td>6.4</td>\n",
       "      <td>7.0</td>\n",
       "      <td>2114.00</td>\n",
       "    </tr>\n",
       "    <tr>\n",
       "      <th>4</th>\n",
       "      <td>AL</td>\n",
       "      <td>dunnavant</td>\n",
       "      <td>6.7</td>\n",
       "      <td>6.4</td>\n",
       "      <td>7.0</td>\n",
       "      <td>0.00</td>\n",
       "    </tr>\n",
       "    <tr>\n",
       "      <th>5</th>\n",
       "      <td>AL</td>\n",
       "      <td>hartselle</td>\n",
       "      <td>6.7</td>\n",
       "      <td>6.5</td>\n",
       "      <td>6.8</td>\n",
       "      <td>0.00</td>\n",
       "    </tr>\n",
       "    <tr>\n",
       "      <th>...</th>\n",
       "      <td>...</td>\n",
       "      <td>...</td>\n",
       "      <td>...</td>\n",
       "      <td>...</td>\n",
       "      <td>...</td>\n",
       "      <td>...</td>\n",
       "    </tr>\n",
       "    <tr>\n",
       "      <th>28479</th>\n",
       "      <td>WI</td>\n",
       "      <td>zoar</td>\n",
       "      <td>5.3</td>\n",
       "      <td>5.0</td>\n",
       "      <td>5.7</td>\n",
       "      <td>0.00</td>\n",
       "    </tr>\n",
       "    <tr>\n",
       "      <th>28480</th>\n",
       "      <td>WI</td>\n",
       "      <td>westboro</td>\n",
       "      <td>6.5</td>\n",
       "      <td>6.1</td>\n",
       "      <td>6.8</td>\n",
       "      <td>0.00</td>\n",
       "    </tr>\n",
       "    <tr>\n",
       "      <th>28481</th>\n",
       "      <td>WY</td>\n",
       "      <td>guernsey</td>\n",
       "      <td>6.3</td>\n",
       "      <td>6.0</td>\n",
       "      <td>6.6</td>\n",
       "      <td>21943.00</td>\n",
       "    </tr>\n",
       "    <tr>\n",
       "      <th>28482</th>\n",
       "      <td>WI</td>\n",
       "      <td>steuben</td>\n",
       "      <td>6.5</td>\n",
       "      <td>6.2</td>\n",
       "      <td>6.9</td>\n",
       "      <td>0.00</td>\n",
       "    </tr>\n",
       "    <tr>\n",
       "      <th>28483</th>\n",
       "      <td>WY</td>\n",
       "      <td>bairoil</td>\n",
       "      <td>5.4</td>\n",
       "      <td>5.1</td>\n",
       "      <td>5.6</td>\n",
       "      <td>0.00</td>\n",
       "    </tr>\n",
       "  </tbody>\n",
       "</table>\n",
       "<p>28483 rows × 6 columns</p>\n",
       "</div>"
      ],
      "text/plain": [
       "      State       City  Age-adjusted cancer rate (%)  \\\n",
       "0        AL    coaling                           6.4   \n",
       "2        AL    fayette                           6.6   \n",
       "3        AL       guin                           6.7   \n",
       "4        AL  dunnavant                           6.7   \n",
       "5        AL  hartselle                           6.7   \n",
       "...     ...        ...                           ...   \n",
       "28479    WI       zoar                           5.3   \n",
       "28480    WI   westboro                           6.5   \n",
       "28481    WY   guernsey                           6.3   \n",
       "28482    WI    steuben                           6.5   \n",
       "28483    WY    bairoil                           5.4   \n",
       "\n",
       "       Lower CI for cancer rate  Upper CI for cancer rate  \\\n",
       "0                           6.2                       6.7   \n",
       "2                           6.4                       6.8   \n",
       "3                           6.4                       7.0   \n",
       "4                           6.4                       7.0   \n",
       "5                           6.5                       6.8   \n",
       "...                         ...                       ...   \n",
       "28479                       5.0                       5.7   \n",
       "28480                       6.1                       6.8   \n",
       "28481                       6.0                       6.6   \n",
       "28482                       6.2                       6.9   \n",
       "28483                       5.1                       5.6   \n",
       "\n",
       "       Total carcinegon release (lb)  \n",
       "0                               0.00  \n",
       "2                              18.27  \n",
       "3                            2114.00  \n",
       "4                               0.00  \n",
       "5                               0.00  \n",
       "...                              ...  \n",
       "28479                           0.00  \n",
       "28480                           0.00  \n",
       "28481                       21943.00  \n",
       "28482                           0.00  \n",
       "28483                           0.00  \n",
       "\n",
       "[28483 rows x 6 columns]"
      ]
     },
     "execution_count": 34,
     "metadata": {},
     "output_type": "execute_result"
    }
   ],
   "source": [
    "combined_cancer[\"Total carcinegon release (lb)\"] = combined_cancer[\"Total carcinegon release (lb)\"].fillna(0)\n",
    "combined_cancer"
   ]
  },
  {
   "cell_type": "code",
   "execution_count": 35,
   "id": "swiss-verification",
   "metadata": {},
   "outputs": [
    {
     "data": {
      "image/png": "[encoded data removed]",
      "text/plain": [
       "<Figure size 432x288 with 1 Axes>"
      ]
     },
     "metadata": {
      "needs_background": "light"
     },
     "output_type": "display_data"
    }
   ],
   "source": [
    "combined_cancer.plot.scatter(y='Age-adjusted cancer rate (%)',x='Total carcinegon release (lb)')\n",
    "plt.xlim(0.1,100000000)\n",
    "plt.xscale('log')"
   ]
  },
  {
   "cell_type": "code",
   "execution_count": 36,
   "id": "perceived-cleaning",
   "metadata": {},
   "outputs": [
    {
     "name": "stdout",
     "output_type": "stream",
     "text": [
      "The Pearson correlation coefficient is:  -0.012171734143586263 and is statistically significant with a p of  0.03995651043456674\n"
     ]
    }
   ],
   "source": [
    "[r, p] = stats.pearsonr(combined_cancer['Total carcinegon release (lb)'],combined_cancer['Age-adjusted cancer rate (%)'])\n",
    "print(\"The Pearson correlation coefficient is: \", r, \"and is statistically significant with a p of \", p)"
   ]
  },
  {
   "cell_type": "markdown",
   "id": "valued-municipality",
   "metadata": {},
   "source": [
    "So not really the expected trend, not super surprising given the contraints of the data set, and the fact that concentrations decrease by a r^3 dependence."
   ]
  },
  {
   "cell_type": "markdown",
   "id": "passive-shadow",
   "metadata": {},
   "source": [
    "### Dr. Bart likes histograms, probably should check the overall distributions\n",
    "\n",
    "Should probably go above...."
   ]
  },
  {
   "cell_type": "code",
   "execution_count": 37,
   "id": "least-pleasure",
   "metadata": {},
   "outputs": [
    {
     "data": {
      "text/plain": [
       "array([[<AxesSubplot:title={'center':'Age-adjusted cancer rate (%)'}>]],\n",
       "      dtype=object)"
      ]
     },
     "execution_count": 37,
     "metadata": {},
     "output_type": "execute_result"
    },
    {
     "data": {
      "image/png": "[encoded data removed]",
      "text/plain": [
       "<Figure size 432x288 with 1 Axes>"
      ]
     },
     "metadata": {
      "needs_background": "light"
     },
     "output_type": "display_data"
    }
   ],
   "source": [
    "combined_cancer.hist(column = 'Age-adjusted cancer rate (%)',bins=20) # Similar in most places..."
   ]
  },
  {
   "cell_type": "code",
   "execution_count": 38,
   "id": "entertaining-botswana",
   "metadata": {},
   "outputs": [
    {
     "data": {
      "text/plain": [
       "array([[<AxesSubplot:title={'center':'Total carcinegon release (lb)'}>]],\n",
       "      dtype=object)"
      ]
     },
     "execution_count": 38,
     "metadata": {},
     "output_type": "execute_result"
    },
    {
     "data": {
      "image/png": "[encoded data removed]",
      "text/plain": [
       "<Figure size 432x288 with 1 Axes>"
      ]
     },
     "metadata": {
      "needs_background": "light"
     },
     "output_type": "display_data"
    }
   ],
   "source": [
    "combined_cancer.hist(column = 'Total carcinegon release (lb)',bins=100) # vast majority of cities have no recorded emissions."
   ]
  },
  {
   "cell_type": "code",
   "execution_count": 39,
   "id": "regulation-analyst",
   "metadata": {},
   "outputs": [
    {
     "data": {
      "image/png": "[encoded data removed]",
      "text/plain": [
       "<Figure size 432x288 with 1 Axes>"
      ]
     },
     "metadata": {
      "needs_background": "light"
     },
     "output_type": "display_data"
    }
   ],
   "source": [
    "combined_cancer.hist(column = 'Total carcinegon release (lb)',bins=100) # vast majority of cities have no recorded emissions\n",
    "plt.xscale('log')"
   ]
  },
  {
   "cell_type": "code",
   "execution_count": 40,
   "id": "signed-vanilla",
   "metadata": {},
   "outputs": [
    {
     "data": {
      "image/png": "[encoded data removed]",
      "text/plain": [
       "<Figure size 432x288 with 1 Axes>"
      ]
     },
     "metadata": {
      "needs_background": "light"
     },
     "output_type": "display_data"
    }
   ],
   "source": [
    "# learned the log scale: https://stackoverflow.com/questions/47850202/plotting-a-histogram-on-a-log-scale-with-matplotlib\n",
    "\n",
    "x = combined_cancer['Total carcinegon release (lb)'] + 1 # Plus one to make the transformation work...\n",
    "hist, bins = np.histogram(x, bins=16)\n",
    "logbins = np.logspace(np.log10(bins[0]),np.log10(bins[-1]),len(bins))\n",
    "plt.hist(x, bins=logbins)\n",
    "plt.xscale('log')\n",
    "plt.yscale('log')\n",
    "plt.show()"
   ]
  },
  {
   "cell_type": "markdown",
   "id": "advisory-massachusetts",
   "metadata": {},
   "source": [
    "### What if we only look at emissions from water?\n",
    "\n",
    "Water emissions - one would think, would have a less strong dependence on distance from the facitlity,\n",
    "need to start by remaking the cancer dataset:"
   ]
  },
  {
   "cell_type": "code",
   "execution_count": 41,
   "id": "dimensional-profession",
   "metadata": {},
   "outputs": [],
   "source": [
    "gb_carcinogen_by_loc_water = df_carcinogen.groupby(['8. ST','6. CITY'])['47. 5.3 - WATER'].sum()\n",
    "df_carcinogen_by_loc_water = gb_carcinogen_by_loc_water.reset_index()\n",
    "df_carcinogen_by_loc_water['6. CITY'] = df_carcinogen_by_loc_water['6. CITY'].str.lower()\n",
    "combined_cancer_water = pd.merge(df_cancerData_important, df_carcinogen_by_loc_water, left_on=['StateAbbr','LocationName'],right_on=['8. ST','6. CITY'], how='left')\n",
    "combined_cancer_water = combined_cancer_water.drop(columns=['8. ST','6. CITY'],index=1)\n",
    "newLabels = [\"State\",\"City\",\"Age-adjusted cancer rate (%)\", \"Lower CI for cancer rate\",\"Upper CI for cancer rate\",\"Total carcinegon releases to water (lb)\"]\n",
    "combined_cancer_water.columns = newLabels"
   ]
  },
  {
   "cell_type": "code",
   "execution_count": 42,
   "id": "future-routine",
   "metadata": {},
   "outputs": [
    {
     "data": {
      "text/plain": [
       "(4.0, 7.0)"
      ]
     },
     "execution_count": 42,
     "metadata": {},
     "output_type": "execute_result"
    },
    {
     "data": {
      "image/png": "[encoded data removed]",
      "text/plain": [
       "<Figure size 432x288 with 1 Axes>"
      ]
     },
     "metadata": {
      "needs_background": "light"
     },
     "output_type": "display_data"
    }
   ],
   "source": [
    "# Setting nan to zero:\n",
    "combined_cancer_water0 = combined_cancer_water\n",
    "combined_cancer_water0[\"Total carcinegon releases to water (lb)\"] = combined_cancer_water0[\"Total carcinegon releases to water (lb)\"].fillna(0)\n",
    "combined_cancer_water0.plot.scatter(y='Age-adjusted cancer rate (%)',x=\"Total carcinegon releases to water (lb)\")\n",
    "plt.xscale('log')\n",
    "plt.xlim(0.1,100000)\n",
    "plt.ylim(4,7)"
   ]
  },
  {
   "cell_type": "code",
   "execution_count": 43,
   "id": "proof-shade",
   "metadata": {},
   "outputs": [
    {
     "name": "stdout",
     "output_type": "stream",
     "text": [
      "The Pearson correlation coefficient is:  -0.006020940627801662 and is statistically significant with a p of  0.3095754925067597\n"
     ]
    }
   ],
   "source": [
    "# Dropping\n",
    "[r, p] = stats.pearsonr(combined_cancer_water0[\"Total carcinegon releases to water (lb)\"],combined_cancer_water0['Age-adjusted cancer rate (%)'])\n",
    "print(\"The Pearson correlation coefficient is: \", r, \"and is statistically significant with a p of \", p)"
   ]
  },
  {
   "cell_type": "markdown",
   "id": "turkish-lingerie",
   "metadata": {},
   "source": [
    "The Pearson correlation coefficient is:  -0.017525840739286737 and is statistically significant with a p of  0.24640903448061305\n",
    "\n",
    "Is the output if the zeros are not included....\n",
    "\n",
    "Both not signficant. Likely too much noise\n",
    "\n",
    "Out of interest what happens if we drop zeros?"
   ]
  },
  {
   "cell_type": "code",
   "execution_count": 44,
   "id": "ahead-buyer",
   "metadata": {},
   "outputs": [
    {
     "name": "stdout",
     "output_type": "stream",
     "text": [
      "The Pearson correlation coefficient is:  -0.04093921432921953 and is statistically significant with a p of  0.25497972461319723\n"
     ]
    },
    {
     "data": {
      "image/png": "[encoded data removed]",
      "text/plain": [
       "<Figure size 432x288 with 1 Axes>"
      ]
     },
     "metadata": {
      "needs_background": "light"
     },
     "output_type": "display_data"
    }
   ],
   "source": [
    "only_emissions = combined_cancer_water[(combined_cancer_water[\"Total carcinegon releases to water (lb)\"]>1)]\n",
    "only_emissions.plot.scatter(y='Age-adjusted cancer rate (%)',x=\"Total carcinegon releases to water (lb)\")\n",
    "plt.xscale('log')\n",
    "[r, p] = stats.pearsonr(only_emissions[\"Total carcinegon releases to water (lb)\"],only_emissions['Age-adjusted cancer rate (%)'])\n",
    "print(\"The Pearson correlation coefficient is: \", r, \"and is statistically significant with a p of \", p)"
   ]
  },
  {
   "cell_type": "markdown",
   "id": "ethical-basin",
   "metadata": {},
   "source": [
    "## Okay, what about landfills?\n",
    "\n",
    "\n"
   ]
  },
  {
   "cell_type": "code",
   "execution_count": 45,
   "id": "virgin-impression",
   "metadata": {},
   "outputs": [],
   "source": [
    "gb_carcinogen_by_loc_land = df_carcinogen.groupby(['8. ST','6. CITY'])['54. 5.5.2 - LAND TREATMENT'].sum()\n",
    "df_carcinogen_by_loc_land = gb_carcinogen_by_loc_land.reset_index()\n",
    "df_carcinogen_by_loc_land['6. CITY'] = df_carcinogen_by_loc_land['6. CITY'].str.lower()\n",
    "combined_cancer_land = pd.merge(df_cancerData_important, df_carcinogen_by_loc_land, left_on=['StateAbbr','LocationName'],right_on=['8. ST','6. CITY'], how='left')\n",
    "combined_cancer_land = combined_cancer_land.drop(columns=['8. ST','6. CITY'],index=1)\n",
    "newLabels = [\"State\",\"City\",\"Age-adjusted cancer rate (%)\", \"Lower CI for cancer rate\",\"Upper CI for cancer rate\",\"Total carcinegon releases to landfills (lb)\"]\n",
    "combined_cancer_land.columns = newLabels"
   ]
  },
  {
   "cell_type": "code",
   "execution_count": 46,
   "id": "colored-neighborhood",
   "metadata": {},
   "outputs": [
    {
     "data": {
      "text/plain": [
       "(0.01, 100000)"
      ]
     },
     "execution_count": 46,
     "metadata": {},
     "output_type": "execute_result"
    },
    {
     "data": {
      "image/png": "[encoded data removed]",
      "text/plain": [
       "<Figure size 432x288 with 1 Axes>"
      ]
     },
     "metadata": {
      "needs_background": "light"
     },
     "output_type": "display_data"
    }
   ],
   "source": [
    "# Setting nan to zero:\n",
    "combined_cancer_land = combined_cancer_land\n",
    "combined_cancer_land[\"Total carcinegon releases to water (lb)\"] = combined_cancer_land[\"Total carcinegon releases to landfills (lb)\"].fillna(0.1) # artificial line on scatter\n",
    "combined_cancer_land.plot.scatter(y='Age-adjusted cancer rate (%)',x=\"Total carcinegon releases to water (lb)\")\n",
    "plt.xscale('log')\n",
    "plt.xlim(0.01,100000)"
   ]
  },
  {
   "cell_type": "code",
   "execution_count": 47,
   "id": "lesser-mission",
   "metadata": {},
   "outputs": [
    {
     "ename": "ValueError",
     "evalue": "array must not contain infs or NaNs",
     "output_type": "error",
     "traceback": [
      "\u001b[1;31m---------------------------------------------------------------------------\u001b[0m",
      "\u001b[1;31mValueError\u001b[0m                                Traceback (most recent call last)",
      "\u001b[1;32m<ipython-input-47-11f7243b1ce5>\u001b[0m in \u001b[0;36m<module>\u001b[1;34m\u001b[0m\n\u001b[1;32m----> 1\u001b[1;33m \u001b[1;33m[\u001b[0m\u001b[0mr\u001b[0m\u001b[1;33m,\u001b[0m \u001b[0mp\u001b[0m\u001b[1;33m]\u001b[0m \u001b[1;33m=\u001b[0m \u001b[0mstats\u001b[0m\u001b[1;33m.\u001b[0m\u001b[0mpearsonr\u001b[0m\u001b[1;33m(\u001b[0m\u001b[0mcombined_cancer_land\u001b[0m\u001b[1;33m[\u001b[0m\u001b[1;34m\"Total carcinegon releases to landfills (lb)\"\u001b[0m\u001b[1;33m]\u001b[0m\u001b[1;33m,\u001b[0m\u001b[0mcombined_cancer_land\u001b[0m\u001b[1;33m[\u001b[0m\u001b[1;34m'Age-adjusted cancer rate (%)'\u001b[0m\u001b[1;33m]\u001b[0m\u001b[1;33m)\u001b[0m\u001b[1;33m\u001b[0m\u001b[1;33m\u001b[0m\u001b[0m\n\u001b[0m\u001b[0;32m      2\u001b[0m \u001b[0mprint\u001b[0m\u001b[1;33m(\u001b[0m\u001b[1;34m\"The Pearson correlation coefficient is: \"\u001b[0m\u001b[1;33m,\u001b[0m \u001b[0mr\u001b[0m\u001b[1;33m,\u001b[0m \u001b[1;34m\"and is statistically significant with a p of \"\u001b[0m\u001b[1;33m,\u001b[0m \u001b[0mp\u001b[0m\u001b[1;33m)\u001b[0m\u001b[1;33m\u001b[0m\u001b[1;33m\u001b[0m\u001b[0m\n",
      "\u001b[1;32mc:\\users\\matth\\desktop\\cisc367\\cisc367_dir\\venv\\lib\\site-packages\\scipy\\stats\\stats.py\u001b[0m in \u001b[0;36mpearsonr\u001b[1;34m(x, y)\u001b[0m\n\u001b[0;32m   3933\u001b[0m     \u001b[1;31m# scipy.linalg.norm(xm) does not overflow if xm is, for example,\u001b[0m\u001b[1;33m\u001b[0m\u001b[1;33m\u001b[0m\u001b[1;33m\u001b[0m\u001b[0m\n\u001b[0;32m   3934\u001b[0m     \u001b[1;31m# [-5e210, 5e210, 3e200, -3e200]\u001b[0m\u001b[1;33m\u001b[0m\u001b[1;33m\u001b[0m\u001b[1;33m\u001b[0m\u001b[0m\n\u001b[1;32m-> 3935\u001b[1;33m     \u001b[0mnormxm\u001b[0m \u001b[1;33m=\u001b[0m \u001b[0mlinalg\u001b[0m\u001b[1;33m.\u001b[0m\u001b[0mnorm\u001b[0m\u001b[1;33m(\u001b[0m\u001b[0mxm\u001b[0m\u001b[1;33m)\u001b[0m\u001b[1;33m\u001b[0m\u001b[1;33m\u001b[0m\u001b[0m\n\u001b[0m\u001b[0;32m   3936\u001b[0m     \u001b[0mnormym\u001b[0m \u001b[1;33m=\u001b[0m \u001b[0mlinalg\u001b[0m\u001b[1;33m.\u001b[0m\u001b[0mnorm\u001b[0m\u001b[1;33m(\u001b[0m\u001b[0mym\u001b[0m\u001b[1;33m)\u001b[0m\u001b[1;33m\u001b[0m\u001b[1;33m\u001b[0m\u001b[0m\n\u001b[0;32m   3937\u001b[0m \u001b[1;33m\u001b[0m\u001b[0m\n",
      "\u001b[1;32mc:\\users\\matth\\desktop\\cisc367\\cisc367_dir\\venv\\lib\\site-packages\\scipy\\linalg\\misc.py\u001b[0m in \u001b[0;36mnorm\u001b[1;34m(a, ord, axis, keepdims, check_finite)\u001b[0m\n\u001b[0;32m    138\u001b[0m     \u001b[1;31m# Differs from numpy only in non-finite handling and the use of blas.\u001b[0m\u001b[1;33m\u001b[0m\u001b[1;33m\u001b[0m\u001b[1;33m\u001b[0m\u001b[0m\n\u001b[0;32m    139\u001b[0m     \u001b[1;32mif\u001b[0m \u001b[0mcheck_finite\u001b[0m\u001b[1;33m:\u001b[0m\u001b[1;33m\u001b[0m\u001b[1;33m\u001b[0m\u001b[0m\n\u001b[1;32m--> 140\u001b[1;33m         \u001b[0ma\u001b[0m \u001b[1;33m=\u001b[0m \u001b[0mnp\u001b[0m\u001b[1;33m.\u001b[0m\u001b[0masarray_chkfinite\u001b[0m\u001b[1;33m(\u001b[0m\u001b[0ma\u001b[0m\u001b[1;33m)\u001b[0m\u001b[1;33m\u001b[0m\u001b[1;33m\u001b[0m\u001b[0m\n\u001b[0m\u001b[0;32m    141\u001b[0m     \u001b[1;32melse\u001b[0m\u001b[1;33m:\u001b[0m\u001b[1;33m\u001b[0m\u001b[1;33m\u001b[0m\u001b[0m\n\u001b[0;32m    142\u001b[0m         \u001b[0ma\u001b[0m \u001b[1;33m=\u001b[0m \u001b[0mnp\u001b[0m\u001b[1;33m.\u001b[0m\u001b[0masarray\u001b[0m\u001b[1;33m(\u001b[0m\u001b[0ma\u001b[0m\u001b[1;33m)\u001b[0m\u001b[1;33m\u001b[0m\u001b[1;33m\u001b[0m\u001b[0m\n",
      "\u001b[1;32mc:\\users\\matth\\desktop\\cisc367\\cisc367_dir\\venv\\lib\\site-packages\\numpy\\lib\\function_base.py\u001b[0m in \u001b[0;36masarray_chkfinite\u001b[1;34m(a, dtype, order)\u001b[0m\n\u001b[0;32m    487\u001b[0m     \u001b[1;32mif\u001b[0m \u001b[0ma\u001b[0m\u001b[1;33m.\u001b[0m\u001b[0mdtype\u001b[0m\u001b[1;33m.\u001b[0m\u001b[0mchar\u001b[0m \u001b[1;32min\u001b[0m \u001b[0mtypecodes\u001b[0m\u001b[1;33m[\u001b[0m\u001b[1;34m'AllFloat'\u001b[0m\u001b[1;33m]\u001b[0m \u001b[1;32mand\u001b[0m \u001b[1;32mnot\u001b[0m \u001b[0mnp\u001b[0m\u001b[1;33m.\u001b[0m\u001b[0misfinite\u001b[0m\u001b[1;33m(\u001b[0m\u001b[0ma\u001b[0m\u001b[1;33m)\u001b[0m\u001b[1;33m.\u001b[0m\u001b[0mall\u001b[0m\u001b[1;33m(\u001b[0m\u001b[1;33m)\u001b[0m\u001b[1;33m:\u001b[0m\u001b[1;33m\u001b[0m\u001b[1;33m\u001b[0m\u001b[0m\n\u001b[0;32m    488\u001b[0m         raise ValueError(\n\u001b[1;32m--> 489\u001b[1;33m             \"array must not contain infs or NaNs\")\n\u001b[0m\u001b[0;32m    490\u001b[0m     \u001b[1;32mreturn\u001b[0m \u001b[0ma\u001b[0m\u001b[1;33m\u001b[0m\u001b[1;33m\u001b[0m\u001b[0m\n\u001b[0;32m    491\u001b[0m \u001b[1;33m\u001b[0m\u001b[0m\n",
      "\u001b[1;31mValueError\u001b[0m: array must not contain infs or NaNs"
     ]
    }
   ],
   "source": [
    "[r, p] = stats.pearsonr(combined_cancer_land[\"Total carcinegon releases to landfills (lb)\"],combined_cancer_land['Age-adjusted cancer rate (%)'])\n",
    "print(\"The Pearson correlation coefficient is: \", r, \"and is statistically significant with a p of \", p)"
   ]
  },
  {
   "cell_type": "markdown",
   "id": "lyric-albuquerque",
   "metadata": {},
   "source": [
    "Not signficant....."
   ]
  },
  {
   "cell_type": "markdown",
   "id": "verified-mediterranean",
   "metadata": {},
   "source": [
    "## Onto Asthma\n",
    "\n",
    "Looks like the TRI does not report NOx or SOx, might be able to correlate with general industrial activity"
   ]
  },
  {
   "cell_type": "markdown",
   "id": "accredited-county",
   "metadata": {},
   "source": [
    "## Histograms!\n",
    "\n",
    "Lets see the distribution:"
   ]
  },
  {
   "cell_type": "code",
   "execution_count": 66,
   "id": "improved-conditioning",
   "metadata": {},
   "outputs": [
    {
     "data": {
      "text/plain": [
       "array([[<AxesSubplot:title={'center':'Data_Value'}>]], dtype=object)"
      ]
     },
     "execution_count": 66,
     "metadata": {},
     "output_type": "execute_result"
    },
    {
     "data": {
      "image/png": "[encoded data removed]",
      "text/plain": [
       "<Figure size 432x288 with 1 Axes>"
      ]
     },
     "metadata": {
      "needs_background": "light"
     },
     "output_type": "display_data"
    }
   ],
   "source": [
    "df_asthmaData_important.hist(column = 'Data_Value',bins=20) "
   ]
  },
  {
   "cell_type": "code",
   "execution_count": 64,
   "id": "ranging-label",
   "metadata": {},
   "outputs": [
    {
     "data": {
      "text/html": [
       "<div>\n",
       "<style scoped>\n",
       "    .dataframe tbody tr th:only-of-type {\n",
       "        vertical-align: middle;\n",
       "    }\n",
       "\n",
       "    .dataframe tbody tr th {\n",
       "        vertical-align: top;\n",
       "    }\n",
       "\n",
       "    .dataframe thead th {\n",
       "        text-align: right;\n",
       "    }\n",
       "</style>\n",
       "<table border=\"1\" class=\"dataframe\">\n",
       "  <thead>\n",
       "    <tr style=\"text-align: right;\">\n",
       "      <th></th>\n",
       "      <th>StateAbbr</th>\n",
       "      <th>LocationName</th>\n",
       "      <th>Data_Value</th>\n",
       "      <th>Low_Confidence_Limit</th>\n",
       "      <th>High_Confidence_Limit</th>\n",
       "    </tr>\n",
       "  </thead>\n",
       "  <tbody>\n",
       "  </tbody>\n",
       "</table>\n",
       "</div>"
      ],
      "text/plain": [
       "Empty DataFrame\n",
       "Columns: [StateAbbr, LocationName, Data_Value, Low_Confidence_Limit, High_Confidence_Limit]\n",
       "Index: []"
      ]
     },
     "execution_count": 64,
     "metadata": {},
     "output_type": "execute_result"
    }
   ],
   "source": [
    "df_asthmaData_important"
   ]
  },
  {
   "cell_type": "markdown",
   "id": "saving-trail",
   "metadata": {},
   "source": [
    "#### Ozone"
   ]
  },
  {
   "cell_type": "code",
   "execution_count": 48,
   "id": "psychological-enlargement",
   "metadata": {},
   "outputs": [],
   "source": [
    "df_TRI_ozone = df_TRI[df_TRI['34. CHEMICAL']=='Ozone'] # not a promisingly large data set...\n",
    "\n",
    "gb_ozone = df_TRI_ozone.groupby(['8. ST','6. CITY'])['101. TOTAL RELEASES'].sum()\n",
    "df_ozone = gb_ozone.reset_index()\n",
    "df_ozone['6. CITY'] = df_ozone['6. CITY'].str.lower()\n",
    "combined_ozone = pd.merge(df_cancerData_important, df_ozone, left_on=['StateAbbr','LocationName'],right_on=['8. ST','6. CITY'], how='left')\n",
    "combined_ozone = combined_ozone.drop(columns=['8. ST','6. CITY'],index=1)\n",
    "newLabels = [\"State\",\"City\",\"Age-adjusted cancer rate (%)\", \"Lower CI for cancer rate\",\"Upper CI for cancer rate\",\"Total carcinegon releases (lb)\"]\n",
    "combined_ozone.columns = newLabels"
   ]
  },
  {
   "cell_type": "code",
   "execution_count": 49,
   "id": "furnished-balloon",
   "metadata": {},
   "outputs": [
    {
     "data": {
      "text/plain": [
       "<AxesSubplot:xlabel='Total carcinegon releases (lb)', ylabel='Age-adjusted cancer rate (%)'>"
      ]
     },
     "execution_count": 49,
     "metadata": {},
     "output_type": "execute_result"
    },
    {
     "data": {
      "image/png": "[encoded data removed]",
      "text/plain": [
       "<Figure size 432x288 with 1 Axes>"
      ]
     },
     "metadata": {
      "needs_background": "light"
     },
     "output_type": "display_data"
    }
   ],
   "source": [
    "combined_ozone_noNa = combined_ozone.dropna()\n",
    "combined_ozone_noNa.plot.scatter(y='Age-adjusted cancer rate (%)',x=\"Total ozone releases (lb)\")"
   ]
  },
  {
   "cell_type": "code",
   "execution_count": 50,
   "id": "monetary-brake",
   "metadata": {},
   "outputs": [
    {
     "name": "stdout",
     "output_type": "stream",
     "text": [
      "The Pearson correlation coefficient is:  0.4128443744651564 and is statistically significant with a p of  0.0323380532945247\n"
     ]
    }
   ],
   "source": [
    "[r, p] = stats.pearsonr(combined_ozone_noNa[\"Total carcinegon releases (lb)\"],combined_ozone_noNa['Age-adjusted cancer rate (%)'])\n",
    "print(\"The Pearson correlation coefficient is: \", r, \"and is statistically significant with a p of \", p)"
   ]
  },
  {
   "cell_type": "code",
   "execution_count": 51,
   "id": "deluxe-gossip",
   "metadata": {},
   "outputs": [
    {
     "name": "stdout",
     "output_type": "stream",
     "text": [
      "The Pearson correlation coefficient is:  0.002422428521683183 and is statistically significant with a p of  0.6826764046522904\n"
     ]
    }
   ],
   "source": [
    "combined_ozone_0 = combined_ozone.fillna(0)\n",
    "[r, p] = stats.pearsonr(combined_ozone_0[\"Total carcinegon releases (lb)\"],combined_ozone_0['Age-adjusted cancer rate (%)'])\n",
    "print(\"The Pearson correlation coefficient is: \", r, \"and is statistically significant with a p of \", p)"
   ]
  },
  {
   "cell_type": "markdown",
   "id": "numeric-telephone",
   "metadata": {},
   "source": [
    "Lets try SOx..."
   ]
  }
 ],
 "metadata": {
  "kernelspec": {
   "display_name": "Python 3",
   "language": "python",
   "name": "python3"
  },
  "language_info": {
   "codemirror_mode": {
    "name": "ipython",
    "version": 3
   },
   "file_extension": ".py",
   "mimetype": "text/x-python",
   "name": "python",
   "nbconvert_exporter": "python",
   "pygments_lexer": "ipython3",
   "version": "3.7.2"
  }
 },
 "nbformat": 4,
 "nbformat_minor": 5
}
